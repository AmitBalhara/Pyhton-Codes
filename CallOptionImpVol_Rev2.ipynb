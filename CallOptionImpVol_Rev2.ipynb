{
 "cells": [
  {
   "cell_type": "code",
   "execution_count": 1,
   "metadata": {},
   "outputs": [],
   "source": [
    "## Black Sholes Martin model for valueing Call options \n",
    "## s0 = stock price at time zero\n",
    "##K = strike price\n",
    "## T = time to maturity\n",
    "## r = risk free rate of return\n",
    "## sigma = volatility\n",
    "def bsm_call_value(s0, K, T, r, sigma):\n",
    "    from math import log, sqrt, exp\n",
    "    from scipy import stats\n",
    "    d1 = (log(s0/K) + (r + 0.5*sigma**2)*T) / (sigma*sqrt(T))\n",
    "    d2 = (log(s0/K) + (r - 0.5*sigma**2)*T) / (sigma*sqrt(T))\n",
    "    value = (s0*stats.norm.cdf(d1,0.0,1.0) - K*exp(-r*T)*stats.norm.cdf(d2,0.0,1.0))\n",
    "    return value"
   ]
  },
  {
   "cell_type": "code",
   "execution_count": 2,
   "metadata": {},
   "outputs": [
    {
     "data": {
      "text/plain": [
       "2.324274466015236"
      ]
     },
     "execution_count": 2,
     "metadata": {},
     "output_type": "execute_result"
    }
   ],
   "source": [
    "bsm_call_value(100,125,1,0.05,0.2)"
   ]
  },
  {
   "cell_type": "code",
   "execution_count": 3,
   "metadata": {},
   "outputs": [],
   "source": [
    "## Function to calculate vega for the calll option\n",
    "## s0 = stock price at time zero\n",
    "##K = strike price\n",
    "## T = time to maturity\n",
    "## r = risk free rate of return\n",
    "## sigma = volatility\n",
    "def bsm_vega(s0, K, T, r, sigma):\n",
    "    from math import log, sqrt\n",
    "    from scipy import stats\n",
    "    d1 = (log(s0/K) + (r + 0.5*sigma**2)*T) / (sigma*sqrt(T))\n",
    "    vega = s0*stats.norm.cdf(d1,0.0,1.0)*sqrt(T)\n",
    "    return vega"
   ]
  },
  {
   "cell_type": "code",
   "execution_count": 4,
   "metadata": {},
   "outputs": [
    {
     "data": {
      "text/plain": [
       "22.19221296481797"
      ]
     },
     "execution_count": 4,
     "metadata": {},
     "output_type": "execute_result"
    }
   ],
   "source": [
    "bsm_vega(100,125,1,0.05,0.2)"
   ]
  },
  {
   "cell_type": "code",
   "execution_count": 5,
   "metadata": {},
   "outputs": [],
   "source": [
    "## Function to calculate Implied Volatility of the Call Options\n",
    "## s0 = stock price at time zero\n",
    "##K = strike price\n",
    "## T = time to maturity\n",
    "## r = risk free rate of return\n",
    "## sigma = volatility\n",
    "## it = no. of iterations\n",
    "def bsm_call_impvol(s0, K, T, r, C0, sigma_est, it = 100):\n",
    "    for i in range(it):\n",
    "        sigma_est -= ((bsm_call_value(s0, K, T, r, sigma_est) - C0) / bsm_vega(s0, K, T, r, sigma_est))\n",
    "        return sigma_est\n",
    "    "
   ]
  },
  {
   "cell_type": "code",
   "execution_count": 6,
   "metadata": {},
   "outputs": [
    {
     "data": {
      "text/plain": [
       "1.2294301519023478"
      ]
     },
     "execution_count": 6,
     "metadata": {},
     "output_type": "execute_result"
    }
   ],
   "source": [
    "bsm_call_impvol(100,125,1,0.05,2.32,2)"
   ]
  },
  {
   "cell_type": "code",
   "execution_count": 7,
   "metadata": {},
   "outputs": [
    {
     "data": {
      "text/plain": [
       "1.2294301519023478"
      ]
     },
     "execution_count": 7,
     "metadata": {},
     "output_type": "execute_result"
    }
   ],
   "source": [
    "bsm_call_impvol(100,125,1,0.05,2.32,2,200)"
   ]
  },
  {
   "cell_type": "code",
   "execution_count": 8,
   "metadata": {},
   "outputs": [
    {
     "data": {
      "text/plain": [
       "0.19980738892412342"
      ]
     },
     "execution_count": 8,
     "metadata": {},
     "output_type": "execute_result"
    }
   ],
   "source": [
    "bsm_call_impvol(100,125,1,0.05,2.32,0.2,100)"
   ]
  },
  {
   "cell_type": "code",
   "execution_count": 10,
   "metadata": {},
   "outputs": [
    {
     "data": {
      "text/html": [
       "<div>\n",
       "<style scoped>\n",
       "    .dataframe tbody tr th:only-of-type {\n",
       "        vertical-align: middle;\n",
       "    }\n",
       "\n",
       "    .dataframe tbody tr th {\n",
       "        vertical-align: top;\n",
       "    }\n",
       "\n",
       "    .dataframe thead th {\n",
       "        text-align: right;\n",
       "    }\n",
       "</style>\n",
       "<table border=\"1\" class=\"dataframe\">\n",
       "  <thead>\n",
       "    <tr style=\"text-align: right;\">\n",
       "      <th></th>\n",
       "      <th>Symbol</th>\n",
       "      <th>Exchange</th>\n",
       "      <th>Company_name</th>\n",
       "      <th>Trade_date</th>\n",
       "      <th>Trade_time</th>\n",
       "      <th>Option_trade_price</th>\n",
       "      <th>Trade_size</th>\n",
       "      <th>Trade_exchange</th>\n",
       "      <th>Trade_condition</th>\n",
       "      <th>Option_symbol</th>\n",
       "      <th>...</th>\n",
       "      <th>Ask_price</th>\n",
       "      <th>Ask_time</th>\n",
       "      <th>Ask_size</th>\n",
       "      <th>Ask_exchange</th>\n",
       "      <th>Underlying_bid_price</th>\n",
       "      <th>Underlying_bid_time</th>\n",
       "      <th>Underlying_ask_price</th>\n",
       "      <th>Underlying_ask_time</th>\n",
       "      <th>Underlying_last_price</th>\n",
       "      <th>Underlying_last_time</th>\n",
       "    </tr>\n",
       "  </thead>\n",
       "  <tbody>\n",
       "    <tr>\n",
       "      <th>0</th>\n",
       "      <td>AAPL</td>\n",
       "      <td>NASDAQ</td>\n",
       "      <td>Apple Inc</td>\n",
       "      <td>10/15/2019</td>\n",
       "      <td>09:30:00.196</td>\n",
       "      <td>18.44</td>\n",
       "      <td>1</td>\n",
       "      <td>Q</td>\n",
       "      <td>Auto</td>\n",
       "      <td>AAPL  191101C00220000</td>\n",
       "      <td>...</td>\n",
       "      <td>0.00</td>\n",
       "      <td>00:00:00.000</td>\n",
       "      <td>0</td>\n",
       "      <td>*</td>\n",
       "      <td>236.35</td>\n",
       "      <td>09:30:00.180</td>\n",
       "      <td>236.45</td>\n",
       "      <td>09:30:00.180</td>\n",
       "      <td>236.45</td>\n",
       "      <td>09:30:00.170</td>\n",
       "    </tr>\n",
       "    <tr>\n",
       "      <th>1</th>\n",
       "      <td>AAPL</td>\n",
       "      <td>NASDAQ</td>\n",
       "      <td>Apple Inc</td>\n",
       "      <td>10/15/2019</td>\n",
       "      <td>09:30:00.495</td>\n",
       "      <td>0.45</td>\n",
       "      <td>33</td>\n",
       "      <td>Y2</td>\n",
       "      <td>Auto</td>\n",
       "      <td>AAPL  191025P00220000</td>\n",
       "      <td>...</td>\n",
       "      <td>0.52</td>\n",
       "      <td>09:30:00.406</td>\n",
       "      <td>2</td>\n",
       "      <td>Y2</td>\n",
       "      <td>236.35</td>\n",
       "      <td>09:30:00.280</td>\n",
       "      <td>236.45</td>\n",
       "      <td>09:30:00.280</td>\n",
       "      <td>236.45</td>\n",
       "      <td>09:30:00.170</td>\n",
       "    </tr>\n",
       "    <tr>\n",
       "      <th>2</th>\n",
       "      <td>AAPL</td>\n",
       "      <td>NASDAQ</td>\n",
       "      <td>Apple Inc</td>\n",
       "      <td>10/15/2019</td>\n",
       "      <td>09:30:00.758</td>\n",
       "      <td>2.80</td>\n",
       "      <td>22</td>\n",
       "      <td>ME</td>\n",
       "      <td>Auto</td>\n",
       "      <td>AAPL  200117C00260000</td>\n",
       "      <td>...</td>\n",
       "      <td>2.80</td>\n",
       "      <td>09:30:00.758</td>\n",
       "      <td>22</td>\n",
       "      <td>ME</td>\n",
       "      <td>236.35</td>\n",
       "      <td>09:30:00.690</td>\n",
       "      <td>236.45</td>\n",
       "      <td>09:30:00.690</td>\n",
       "      <td>236.45</td>\n",
       "      <td>09:30:00.170</td>\n",
       "    </tr>\n",
       "    <tr>\n",
       "      <th>3</th>\n",
       "      <td>AAPL</td>\n",
       "      <td>NASDAQ</td>\n",
       "      <td>Apple Inc</td>\n",
       "      <td>10/15/2019</td>\n",
       "      <td>09:30:00.758</td>\n",
       "      <td>15.80</td>\n",
       "      <td>1</td>\n",
       "      <td>MI</td>\n",
       "      <td>Regular</td>\n",
       "      <td>AAPL  191220C00225000</td>\n",
       "      <td>...</td>\n",
       "      <td>18.50</td>\n",
       "      <td>09:30:00.681</td>\n",
       "      <td>2</td>\n",
       "      <td>ME</td>\n",
       "      <td>236.35</td>\n",
       "      <td>09:30:00.690</td>\n",
       "      <td>236.45</td>\n",
       "      <td>09:30:00.690</td>\n",
       "      <td>236.45</td>\n",
       "      <td>09:30:00.170</td>\n",
       "    </tr>\n",
       "    <tr>\n",
       "      <th>4</th>\n",
       "      <td>AAPL</td>\n",
       "      <td>NASDAQ</td>\n",
       "      <td>Apple Inc</td>\n",
       "      <td>10/15/2019</td>\n",
       "      <td>09:30:00.758</td>\n",
       "      <td>12.10</td>\n",
       "      <td>1</td>\n",
       "      <td>MI</td>\n",
       "      <td>Regular</td>\n",
       "      <td>AAPL  191220C00235000</td>\n",
       "      <td>...</td>\n",
       "      <td>12.10</td>\n",
       "      <td>09:30:00.675</td>\n",
       "      <td>10</td>\n",
       "      <td>MI</td>\n",
       "      <td>236.35</td>\n",
       "      <td>09:30:00.690</td>\n",
       "      <td>236.45</td>\n",
       "      <td>09:30:00.690</td>\n",
       "      <td>236.45</td>\n",
       "      <td>09:30:00.170</td>\n",
       "    </tr>\n",
       "  </tbody>\n",
       "</table>\n",
       "<p>5 rows × 28 columns</p>\n",
       "</div>"
      ],
      "text/plain": [
       "  Symbol Exchange Company_name  Trade_date    Trade_time  Option_trade_price  \\\n",
       "0   AAPL   NASDAQ    Apple Inc  10/15/2019  09:30:00.196               18.44   \n",
       "1   AAPL   NASDAQ    Apple Inc  10/15/2019  09:30:00.495                0.45   \n",
       "2   AAPL   NASDAQ    Apple Inc  10/15/2019  09:30:00.758                2.80   \n",
       "3   AAPL   NASDAQ    Apple Inc  10/15/2019  09:30:00.758               15.80   \n",
       "4   AAPL   NASDAQ    Apple Inc  10/15/2019  09:30:00.758               12.10   \n",
       "\n",
       "   Trade_size Trade_exchange Trade_condition          Option_symbol  ...  \\\n",
       "0           1              Q            Auto  AAPL  191101C00220000  ...   \n",
       "1          33             Y2            Auto  AAPL  191025P00220000  ...   \n",
       "2          22             ME            Auto  AAPL  200117C00260000  ...   \n",
       "3           1             MI         Regular  AAPL  191220C00225000  ...   \n",
       "4           1             MI         Regular  AAPL  191220C00235000  ...   \n",
       "\n",
       "  Ask_price      Ask_time Ask_size Ask_exchange  Underlying_bid_price  \\\n",
       "0      0.00  00:00:00.000        0           *                 236.35   \n",
       "1      0.52  09:30:00.406        2           Y2                236.35   \n",
       "2      2.80  09:30:00.758       22           ME                236.35   \n",
       "3     18.50  09:30:00.681        2           ME                236.35   \n",
       "4     12.10  09:30:00.675       10           MI                236.35   \n",
       "\n",
       "  Underlying_bid_time  Underlying_ask_price Underlying_ask_time  \\\n",
       "0        09:30:00.180                236.45        09:30:00.180   \n",
       "1        09:30:00.280                236.45        09:30:00.280   \n",
       "2        09:30:00.690                236.45        09:30:00.690   \n",
       "3        09:30:00.690                236.45        09:30:00.690   \n",
       "4        09:30:00.690                236.45        09:30:00.690   \n",
       "\n",
       "   Underlying_last_price Underlying_last_time  \n",
       "0                 236.45         09:30:00.170  \n",
       "1                 236.45         09:30:00.170  \n",
       "2                 236.45         09:30:00.170  \n",
       "3                 236.45         09:30:00.170  \n",
       "4                 236.45         09:30:00.170  \n",
       "\n",
       "[5 rows x 28 columns]"
      ]
     },
     "execution_count": 10,
     "metadata": {},
     "output_type": "execute_result"
    }
   ],
   "source": [
    "v0 = 17.6639\n",
    "r = 0.01\n",
    "import pandas as pd\n",
    "od = pd.read_csv('C:/Users/amitb/Compressed/AAPL_OptionTrades_NBBO/AAPL_OptionTrades_NBBO.csv')\n",
    "od.head()"
   ]
  },
  {
   "cell_type": "code",
   "execution_count": 11,
   "metadata": {},
   "outputs": [
    {
     "data": {
      "text/plain": [
       "Index(['Symbol', 'Exchange', 'Company_name', 'Trade_date', 'Trade_time',\n",
       "       'Option_trade_price', 'Trade_size', 'Trade_exchange', 'Trade_condition',\n",
       "       'Option_symbol', 'Option_expiration', 'Price_strike', 'Call_Put',\n",
       "       'Style', 'Bid_price', 'Bid_time', 'Bid_size', 'Bid_exchange',\n",
       "       'Ask_price', 'Ask_time', 'Ask_size', 'Ask_exchange',\n",
       "       'Underlying_bid_price', 'Underlying_bid_time', 'Underlying_ask_price',\n",
       "       'Underlying_ask_time', 'Underlying_last_price', 'Underlying_last_time'],\n",
       "      dtype='object')"
      ]
     },
     "execution_count": 11,
     "metadata": {},
     "output_type": "execute_result"
    }
   ],
   "source": [
    "od.columns"
   ]
  },
  {
   "cell_type": "code",
   "execution_count": 12,
   "metadata": {},
   "outputs": [
    {
     "data": {
      "text/html": [
       "<div>\n",
       "<style scoped>\n",
       "    .dataframe tbody tr th:only-of-type {\n",
       "        vertical-align: middle;\n",
       "    }\n",
       "\n",
       "    .dataframe tbody tr th {\n",
       "        vertical-align: top;\n",
       "    }\n",
       "\n",
       "    .dataframe thead th {\n",
       "        text-align: right;\n",
       "    }\n",
       "</style>\n",
       "<table border=\"1\" class=\"dataframe\">\n",
       "  <thead>\n",
       "    <tr style=\"text-align: right;\">\n",
       "      <th></th>\n",
       "      <th>Trade_date</th>\n",
       "      <th>Option_trade_price</th>\n",
       "      <th>Option_expiration</th>\n",
       "      <th>Price_strike</th>\n",
       "      <th>Call_Put</th>\n",
       "      <th>Underlying_last_price</th>\n",
       "    </tr>\n",
       "  </thead>\n",
       "  <tbody>\n",
       "    <tr>\n",
       "      <th>0</th>\n",
       "      <td>10/15/2019</td>\n",
       "      <td>18.44</td>\n",
       "      <td>11/01/2019</td>\n",
       "      <td>220.0</td>\n",
       "      <td>C</td>\n",
       "      <td>236.45</td>\n",
       "    </tr>\n",
       "    <tr>\n",
       "      <th>1</th>\n",
       "      <td>10/15/2019</td>\n",
       "      <td>0.45</td>\n",
       "      <td>10/25/2019</td>\n",
       "      <td>220.0</td>\n",
       "      <td>P</td>\n",
       "      <td>236.45</td>\n",
       "    </tr>\n",
       "    <tr>\n",
       "      <th>2</th>\n",
       "      <td>10/15/2019</td>\n",
       "      <td>2.80</td>\n",
       "      <td>01/17/2020</td>\n",
       "      <td>260.0</td>\n",
       "      <td>C</td>\n",
       "      <td>236.45</td>\n",
       "    </tr>\n",
       "    <tr>\n",
       "      <th>3</th>\n",
       "      <td>10/15/2019</td>\n",
       "      <td>15.80</td>\n",
       "      <td>12/20/2019</td>\n",
       "      <td>225.0</td>\n",
       "      <td>C</td>\n",
       "      <td>236.45</td>\n",
       "    </tr>\n",
       "    <tr>\n",
       "      <th>4</th>\n",
       "      <td>10/15/2019</td>\n",
       "      <td>12.10</td>\n",
       "      <td>12/20/2019</td>\n",
       "      <td>235.0</td>\n",
       "      <td>C</td>\n",
       "      <td>236.45</td>\n",
       "    </tr>\n",
       "  </tbody>\n",
       "</table>\n",
       "</div>"
      ],
      "text/plain": [
       "   Trade_date  Option_trade_price Option_expiration  Price_strike Call_Put  \\\n",
       "0  10/15/2019               18.44        11/01/2019         220.0        C   \n",
       "1  10/15/2019                0.45        10/25/2019         220.0        P   \n",
       "2  10/15/2019                2.80        01/17/2020         260.0        C   \n",
       "3  10/15/2019               15.80        12/20/2019         225.0        C   \n",
       "4  10/15/2019               12.10        12/20/2019         235.0        C   \n",
       "\n",
       "   Underlying_last_price  \n",
       "0                 236.45  \n",
       "1                 236.45  \n",
       "2                 236.45  \n",
       "3                 236.45  \n",
       "4                 236.45  "
      ]
     },
     "execution_count": 12,
     "metadata": {},
     "output_type": "execute_result"
    }
   ],
   "source": [
    "od = od[['Trade_date','Option_trade_price','Option_expiration','Price_strike','Call_Put','Underlying_last_price']]\n",
    "od.head()"
   ]
  },
  {
   "cell_type": "code",
   "execution_count": 13,
   "metadata": {},
   "outputs": [
    {
     "data": {
      "text/html": [
       "<div>\n",
       "<style scoped>\n",
       "    .dataframe tbody tr th:only-of-type {\n",
       "        vertical-align: middle;\n",
       "    }\n",
       "\n",
       "    .dataframe tbody tr th {\n",
       "        vertical-align: top;\n",
       "    }\n",
       "\n",
       "    .dataframe thead th {\n",
       "        text-align: right;\n",
       "    }\n",
       "</style>\n",
       "<table border=\"1\" class=\"dataframe\">\n",
       "  <thead>\n",
       "    <tr style=\"text-align: right;\">\n",
       "      <th></th>\n",
       "      <th>Trade_date</th>\n",
       "      <th>Option_trade_price</th>\n",
       "      <th>Option_expiration</th>\n",
       "      <th>Price_strike</th>\n",
       "      <th>Call_Put</th>\n",
       "      <th>Underlying_last_price</th>\n",
       "    </tr>\n",
       "  </thead>\n",
       "  <tbody>\n",
       "    <tr>\n",
       "      <th>0</th>\n",
       "      <td>10/15/2019</td>\n",
       "      <td>18.44</td>\n",
       "      <td>11/01/2019</td>\n",
       "      <td>220.0</td>\n",
       "      <td>C</td>\n",
       "      <td>236.45</td>\n",
       "    </tr>\n",
       "    <tr>\n",
       "      <th>2</th>\n",
       "      <td>10/15/2019</td>\n",
       "      <td>2.80</td>\n",
       "      <td>01/17/2020</td>\n",
       "      <td>260.0</td>\n",
       "      <td>C</td>\n",
       "      <td>236.45</td>\n",
       "    </tr>\n",
       "    <tr>\n",
       "      <th>3</th>\n",
       "      <td>10/15/2019</td>\n",
       "      <td>15.80</td>\n",
       "      <td>12/20/2019</td>\n",
       "      <td>225.0</td>\n",
       "      <td>C</td>\n",
       "      <td>236.45</td>\n",
       "    </tr>\n",
       "    <tr>\n",
       "      <th>4</th>\n",
       "      <td>10/15/2019</td>\n",
       "      <td>12.10</td>\n",
       "      <td>12/20/2019</td>\n",
       "      <td>235.0</td>\n",
       "      <td>C</td>\n",
       "      <td>236.45</td>\n",
       "    </tr>\n",
       "    <tr>\n",
       "      <th>5</th>\n",
       "      <td>10/15/2019</td>\n",
       "      <td>7.05</td>\n",
       "      <td>10/18/2019</td>\n",
       "      <td>230.0</td>\n",
       "      <td>C</td>\n",
       "      <td>236.45</td>\n",
       "    </tr>\n",
       "  </tbody>\n",
       "</table>\n",
       "</div>"
      ],
      "text/plain": [
       "   Trade_date  Option_trade_price Option_expiration  Price_strike Call_Put  \\\n",
       "0  10/15/2019               18.44        11/01/2019         220.0        C   \n",
       "2  10/15/2019                2.80        01/17/2020         260.0        C   \n",
       "3  10/15/2019               15.80        12/20/2019         225.0        C   \n",
       "4  10/15/2019               12.10        12/20/2019         235.0        C   \n",
       "5  10/15/2019                7.05        10/18/2019         230.0        C   \n",
       "\n",
       "   Underlying_last_price  \n",
       "0                 236.45  \n",
       "2                 236.45  \n",
       "3                 236.45  \n",
       "4                 236.45  \n",
       "5                 236.45  "
      ]
     },
     "execution_count": 13,
     "metadata": {},
     "output_type": "execute_result"
    }
   ],
   "source": [
    "callData = od.groupby('Call_Put').get_group('C')\n",
    "callData.head()"
   ]
  },
  {
   "cell_type": "code",
   "execution_count": 14,
   "metadata": {},
   "outputs": [
    {
     "data": {
      "text/plain": [
       "Trade_date                object\n",
       "Option_trade_price       float64\n",
       "Option_expiration         object\n",
       "Price_strike             float64\n",
       "Call_Put                  object\n",
       "Underlying_last_price    float64\n",
       "dtype: object"
      ]
     },
     "execution_count": 14,
     "metadata": {},
     "output_type": "execute_result"
    }
   ],
   "source": [
    "callData.dtypes"
   ]
  },
  {
   "cell_type": "code",
   "execution_count": 15,
   "metadata": {},
   "outputs": [
    {
     "data": {
      "text/html": [
       "<div>\n",
       "<style scoped>\n",
       "    .dataframe tbody tr th:only-of-type {\n",
       "        vertical-align: middle;\n",
       "    }\n",
       "\n",
       "    .dataframe tbody tr th {\n",
       "        vertical-align: top;\n",
       "    }\n",
       "\n",
       "    .dataframe thead th {\n",
       "        text-align: right;\n",
       "    }\n",
       "</style>\n",
       "<table border=\"1\" class=\"dataframe\">\n",
       "  <thead>\n",
       "    <tr style=\"text-align: right;\">\n",
       "      <th></th>\n",
       "      <th>Trade_date</th>\n",
       "      <th>Option_trade_price</th>\n",
       "      <th>Option_expiration</th>\n",
       "      <th>Price_strike</th>\n",
       "      <th>Underlying_last_price</th>\n",
       "    </tr>\n",
       "  </thead>\n",
       "  <tbody>\n",
       "    <tr>\n",
       "      <th>0</th>\n",
       "      <td>10/15/2019</td>\n",
       "      <td>18.44</td>\n",
       "      <td>11/01/2019</td>\n",
       "      <td>220.0</td>\n",
       "      <td>236.45</td>\n",
       "    </tr>\n",
       "    <tr>\n",
       "      <th>2</th>\n",
       "      <td>10/15/2019</td>\n",
       "      <td>2.80</td>\n",
       "      <td>01/17/2020</td>\n",
       "      <td>260.0</td>\n",
       "      <td>236.45</td>\n",
       "    </tr>\n",
       "    <tr>\n",
       "      <th>3</th>\n",
       "      <td>10/15/2019</td>\n",
       "      <td>15.80</td>\n",
       "      <td>12/20/2019</td>\n",
       "      <td>225.0</td>\n",
       "      <td>236.45</td>\n",
       "    </tr>\n",
       "    <tr>\n",
       "      <th>4</th>\n",
       "      <td>10/15/2019</td>\n",
       "      <td>12.10</td>\n",
       "      <td>12/20/2019</td>\n",
       "      <td>235.0</td>\n",
       "      <td>236.45</td>\n",
       "    </tr>\n",
       "    <tr>\n",
       "      <th>5</th>\n",
       "      <td>10/15/2019</td>\n",
       "      <td>7.05</td>\n",
       "      <td>10/18/2019</td>\n",
       "      <td>230.0</td>\n",
       "      <td>236.45</td>\n",
       "    </tr>\n",
       "  </tbody>\n",
       "</table>\n",
       "</div>"
      ],
      "text/plain": [
       "   Trade_date  Option_trade_price Option_expiration  Price_strike  \\\n",
       "0  10/15/2019               18.44        11/01/2019         220.0   \n",
       "2  10/15/2019                2.80        01/17/2020         260.0   \n",
       "3  10/15/2019               15.80        12/20/2019         225.0   \n",
       "4  10/15/2019               12.10        12/20/2019         235.0   \n",
       "5  10/15/2019                7.05        10/18/2019         230.0   \n",
       "\n",
       "   Underlying_last_price  \n",
       "0                 236.45  \n",
       "2                 236.45  \n",
       "3                 236.45  \n",
       "4                 236.45  \n",
       "5                 236.45  "
      ]
     },
     "execution_count": 15,
     "metadata": {},
     "output_type": "execute_result"
    }
   ],
   "source": [
    "callData = callData.drop(columns = 'Call_Put', axis =1)\n",
    "callData.head()"
   ]
  },
  {
   "cell_type": "code",
   "execution_count": 16,
   "metadata": {},
   "outputs": [
    {
     "data": {
      "text/plain": [
       "Trade_date                object\n",
       "Option_trade_price       float64\n",
       "Option_expiration         object\n",
       "Price_strike             float64\n",
       "Underlying_last_price    float64\n",
       "dtype: object"
      ]
     },
     "execution_count": 16,
     "metadata": {},
     "output_type": "execute_result"
    }
   ],
   "source": [
    "callData.dtypes"
   ]
  },
  {
   "cell_type": "code",
   "execution_count": 17,
   "metadata": {},
   "outputs": [],
   "source": [
    "callData['Option_expiration'] = pd.to_datetime(callData['Option_expiration'])\n",
    "callData['Trade_date'] = pd.to_datetime(callData['Trade_date'])"
   ]
  },
  {
   "cell_type": "code",
   "execution_count": 18,
   "metadata": {},
   "outputs": [
    {
     "data": {
      "text/plain": [
       "Trade_date               datetime64[ns]\n",
       "Option_trade_price              float64\n",
       "Option_expiration        datetime64[ns]\n",
       "Price_strike                    float64\n",
       "Underlying_last_price           float64\n",
       "dtype: object"
      ]
     },
     "execution_count": 18,
     "metadata": {},
     "output_type": "execute_result"
    }
   ],
   "source": [
    "callData.dtypes"
   ]
  },
  {
   "cell_type": "code",
   "execution_count": 19,
   "metadata": {},
   "outputs": [],
   "source": [
    "callData['TTM'] = callData['Option_expiration'] - callData['Trade_date']"
   ]
  },
  {
   "cell_type": "code",
   "execution_count": 20,
   "metadata": {},
   "outputs": [
    {
     "data": {
      "text/html": [
       "<div>\n",
       "<style scoped>\n",
       "    .dataframe tbody tr th:only-of-type {\n",
       "        vertical-align: middle;\n",
       "    }\n",
       "\n",
       "    .dataframe tbody tr th {\n",
       "        vertical-align: top;\n",
       "    }\n",
       "\n",
       "    .dataframe thead th {\n",
       "        text-align: right;\n",
       "    }\n",
       "</style>\n",
       "<table border=\"1\" class=\"dataframe\">\n",
       "  <thead>\n",
       "    <tr style=\"text-align: right;\">\n",
       "      <th></th>\n",
       "      <th>Trade_date</th>\n",
       "      <th>Option_trade_price</th>\n",
       "      <th>Option_expiration</th>\n",
       "      <th>Price_strike</th>\n",
       "      <th>Underlying_last_price</th>\n",
       "      <th>TTM</th>\n",
       "    </tr>\n",
       "  </thead>\n",
       "  <tbody>\n",
       "    <tr>\n",
       "      <th>0</th>\n",
       "      <td>2019-10-15</td>\n",
       "      <td>18.44</td>\n",
       "      <td>2019-11-01</td>\n",
       "      <td>220.0</td>\n",
       "      <td>236.45</td>\n",
       "      <td>17 days</td>\n",
       "    </tr>\n",
       "    <tr>\n",
       "      <th>2</th>\n",
       "      <td>2019-10-15</td>\n",
       "      <td>2.80</td>\n",
       "      <td>2020-01-17</td>\n",
       "      <td>260.0</td>\n",
       "      <td>236.45</td>\n",
       "      <td>94 days</td>\n",
       "    </tr>\n",
       "    <tr>\n",
       "      <th>3</th>\n",
       "      <td>2019-10-15</td>\n",
       "      <td>15.80</td>\n",
       "      <td>2019-12-20</td>\n",
       "      <td>225.0</td>\n",
       "      <td>236.45</td>\n",
       "      <td>66 days</td>\n",
       "    </tr>\n",
       "    <tr>\n",
       "      <th>4</th>\n",
       "      <td>2019-10-15</td>\n",
       "      <td>12.10</td>\n",
       "      <td>2019-12-20</td>\n",
       "      <td>235.0</td>\n",
       "      <td>236.45</td>\n",
       "      <td>66 days</td>\n",
       "    </tr>\n",
       "    <tr>\n",
       "      <th>5</th>\n",
       "      <td>2019-10-15</td>\n",
       "      <td>7.05</td>\n",
       "      <td>2019-10-18</td>\n",
       "      <td>230.0</td>\n",
       "      <td>236.45</td>\n",
       "      <td>3 days</td>\n",
       "    </tr>\n",
       "  </tbody>\n",
       "</table>\n",
       "</div>"
      ],
      "text/plain": [
       "  Trade_date  Option_trade_price Option_expiration  Price_strike  \\\n",
       "0 2019-10-15               18.44        2019-11-01         220.0   \n",
       "2 2019-10-15                2.80        2020-01-17         260.0   \n",
       "3 2019-10-15               15.80        2019-12-20         225.0   \n",
       "4 2019-10-15               12.10        2019-12-20         235.0   \n",
       "5 2019-10-15                7.05        2019-10-18         230.0   \n",
       "\n",
       "   Underlying_last_price     TTM  \n",
       "0                 236.45 17 days  \n",
       "2                 236.45 94 days  \n",
       "3                 236.45 66 days  \n",
       "4                 236.45 66 days  \n",
       "5                 236.45  3 days  "
      ]
     },
     "execution_count": 20,
     "metadata": {},
     "output_type": "execute_result"
    }
   ],
   "source": [
    "callData.head()"
   ]
  },
  {
   "cell_type": "code",
   "execution_count": 21,
   "metadata": {},
   "outputs": [
    {
     "data": {
      "text/plain": [
       "Trade_date                datetime64[ns]\n",
       "Option_trade_price               float64\n",
       "Option_expiration         datetime64[ns]\n",
       "Price_strike                     float64\n",
       "Underlying_last_price            float64\n",
       "TTM                      timedelta64[ns]\n",
       "dtype: object"
      ]
     },
     "execution_count": 21,
     "metadata": {},
     "output_type": "execute_result"
    }
   ],
   "source": [
    "callData.dtypes"
   ]
  },
  {
   "cell_type": "code",
   "execution_count": 22,
   "metadata": {},
   "outputs": [],
   "source": [
    "callData['TTM'] = pd.to_numeric(callData['TTM'].dt.days, downcast='float')"
   ]
  },
  {
   "cell_type": "code",
   "execution_count": 23,
   "metadata": {},
   "outputs": [],
   "source": [
    "for i in callData:\n",
    "    callData['TTM'] = callData['TTM'] / 365\n",
    "    "
   ]
  },
  {
   "cell_type": "code",
   "execution_count": 24,
   "metadata": {},
   "outputs": [
    {
     "data": {
      "text/html": [
       "<div>\n",
       "<style scoped>\n",
       "    .dataframe tbody tr th:only-of-type {\n",
       "        vertical-align: middle;\n",
       "    }\n",
       "\n",
       "    .dataframe tbody tr th {\n",
       "        vertical-align: top;\n",
       "    }\n",
       "\n",
       "    .dataframe thead th {\n",
       "        text-align: right;\n",
       "    }\n",
       "</style>\n",
       "<table border=\"1\" class=\"dataframe\">\n",
       "  <thead>\n",
       "    <tr style=\"text-align: right;\">\n",
       "      <th></th>\n",
       "      <th>Trade_date</th>\n",
       "      <th>Option_trade_price</th>\n",
       "      <th>Option_expiration</th>\n",
       "      <th>Price_strike</th>\n",
       "      <th>Underlying_last_price</th>\n",
       "      <th>TTM</th>\n",
       "    </tr>\n",
       "  </thead>\n",
       "  <tbody>\n",
       "    <tr>\n",
       "      <th>0</th>\n",
       "      <td>2019-10-15</td>\n",
       "      <td>18.44</td>\n",
       "      <td>2019-11-01</td>\n",
       "      <td>220.0</td>\n",
       "      <td>236.45</td>\n",
       "      <td>7.189384e-15</td>\n",
       "    </tr>\n",
       "    <tr>\n",
       "      <th>2</th>\n",
       "      <td>2019-10-15</td>\n",
       "      <td>2.80</td>\n",
       "      <td>2020-01-17</td>\n",
       "      <td>260.0</td>\n",
       "      <td>236.45</td>\n",
       "      <td>3.975307e-14</td>\n",
       "    </tr>\n",
       "    <tr>\n",
       "      <th>3</th>\n",
       "      <td>2019-10-15</td>\n",
       "      <td>15.80</td>\n",
       "      <td>2019-12-20</td>\n",
       "      <td>225.0</td>\n",
       "      <td>236.45</td>\n",
       "      <td>2.791173e-14</td>\n",
       "    </tr>\n",
       "    <tr>\n",
       "      <th>4</th>\n",
       "      <td>2019-10-15</td>\n",
       "      <td>12.10</td>\n",
       "      <td>2019-12-20</td>\n",
       "      <td>235.0</td>\n",
       "      <td>236.45</td>\n",
       "      <td>2.791173e-14</td>\n",
       "    </tr>\n",
       "    <tr>\n",
       "      <th>5</th>\n",
       "      <td>2019-10-15</td>\n",
       "      <td>7.05</td>\n",
       "      <td>2019-10-18</td>\n",
       "      <td>230.0</td>\n",
       "      <td>236.45</td>\n",
       "      <td>1.268715e-15</td>\n",
       "    </tr>\n",
       "  </tbody>\n",
       "</table>\n",
       "</div>"
      ],
      "text/plain": [
       "  Trade_date  Option_trade_price Option_expiration  Price_strike  \\\n",
       "0 2019-10-15               18.44        2019-11-01         220.0   \n",
       "2 2019-10-15                2.80        2020-01-17         260.0   \n",
       "3 2019-10-15               15.80        2019-12-20         225.0   \n",
       "4 2019-10-15               12.10        2019-12-20         235.0   \n",
       "5 2019-10-15                7.05        2019-10-18         230.0   \n",
       "\n",
       "   Underlying_last_price           TTM  \n",
       "0                 236.45  7.189384e-15  \n",
       "2                 236.45  3.975307e-14  \n",
       "3                 236.45  2.791173e-14  \n",
       "4                 236.45  2.791173e-14  \n",
       "5                 236.45  1.268715e-15  "
      ]
     },
     "execution_count": 24,
     "metadata": {},
     "output_type": "execute_result"
    }
   ],
   "source": [
    "callData.head()"
   ]
  },
  {
   "cell_type": "code",
   "execution_count": 25,
   "metadata": {},
   "outputs": [
    {
     "data": {
      "text/plain": [
       "Trade_date               datetime64[ns]\n",
       "Option_trade_price              float64\n",
       "Option_expiration        datetime64[ns]\n",
       "Price_strike                    float64\n",
       "Underlying_last_price           float64\n",
       "TTM                             float32\n",
       "dtype: object"
      ]
     },
     "execution_count": 25,
     "metadata": {},
     "output_type": "execute_result"
    }
   ],
   "source": [
    "callData.dtypes"
   ]
  },
  {
   "cell_type": "code",
   "execution_count": 26,
   "metadata": {},
   "outputs": [
    {
     "name": "stderr",
     "output_type": "stream",
     "text": [
      "C:\\Users\\amitb\\AppData\\Local\\Continuum\\anaconda3\\lib\\site-packages\\ipykernel_launcher.py:4: RuntimeWarning: divide by zero encountered in double_scalars\n",
      "  after removing the cwd from sys.path.\n"
     ]
    }
   ],
   "source": [
    "##bsm_call_impvol(s0, K, T, r, C0, sigma_est, it = 100)\n",
    "\n",
    "r = 0.01\n",
    "\n",
    "\n",
    "sigma_est = 0.01\n",
    "#for i in callData:\n",
    "#    callData['Imp_vol'] = bsm_call_impvol(s0, K, x, r, C0, sigma_est)\n",
    "\n",
    "callData['r'] = [0.01 for i in range(len(callData))]\n",
    "callData['sigma_est'] = [0.01 for i in range(len(callData))]\n",
    "\n",
    "callData['Imp_vol'] = list(map(bsm_call_impvol, callData['Underlying_last_price'],\n",
    "                              callData['Price_strike'],\n",
    "                              callData['TTM'],\n",
    "                              callData['r'],\n",
    "                              callData['Option_trade_price'],\n",
    "                              callData['sigma_est']))"
   ]
  },
  {
   "cell_type": "code",
   "execution_count": 27,
   "metadata": {},
   "outputs": [
    {
     "data": {
      "text/plain": [
       "0    9.925856e+04\n",
       "2             inf\n",
       "3    1.101176e+05\n",
       "4    2.695982e+05\n",
       "5    7.124099e+04\n",
       "Name: Imp_vol, dtype: float64"
      ]
     },
     "execution_count": 27,
     "metadata": {},
     "output_type": "execute_result"
    }
   ],
   "source": [
    "callData['Imp_vol'].head()"
   ]
  },
  {
   "cell_type": "code",
   "execution_count": 28,
   "metadata": {},
   "outputs": [
    {
     "data": {
      "text/plain": [
       "0        9.925856e+04\n",
       "2                 inf\n",
       "3        1.101176e+05\n",
       "4        2.695982e+05\n",
       "5        7.124099e+04\n",
       "6        2.114645e+05\n",
       "8                 inf\n",
       "12                inf\n",
       "20       1.061034e+04\n",
       "21       8.700484e+03\n",
       "24                inf\n",
       "25                inf\n",
       "26                inf\n",
       "27                inf\n",
       "30      -7.362741e+03\n",
       "31                inf\n",
       "34       2.006961e+05\n",
       "35                inf\n",
       "36                inf\n",
       "40       1.086124e+05\n",
       "41       2.390082e+05\n",
       "44                inf\n",
       "45                inf\n",
       "49       9.826929e+04\n",
       "50                inf\n",
       "51                inf\n",
       "52       3.682031e+04\n",
       "53       1.813123e+05\n",
       "55       9.264463e+04\n",
       "56       2.137954e+04\n",
       "             ...     \n",
       "60578    2.123271e+05\n",
       "60580             inf\n",
       "60581             inf\n",
       "60583    2.123361e+05\n",
       "60584    7.337453e+04\n",
       "60585    2.123361e+05\n",
       "60586             inf\n",
       "60587    2.135380e+05\n",
       "60588             inf\n",
       "60591    2.135380e+05\n",
       "60592    2.135380e+05\n",
       "60594    2.135380e+05\n",
       "60595    2.111342e+05\n",
       "60596    2.111342e+05\n",
       "60597             inf\n",
       "60598             inf\n",
       "60601    2.104056e+05\n",
       "60604    2.135380e+05\n",
       "60605             inf\n",
       "60608             inf\n",
       "60613             inf\n",
       "60614    1.598652e+05\n",
       "60615             inf\n",
       "60624             inf\n",
       "60625             inf\n",
       "60626             inf\n",
       "60628             inf\n",
       "60631             inf\n",
       "60632             inf\n",
       "60633             inf\n",
       "Name: Imp_vol, Length: 33465, dtype: float64"
      ]
     },
     "execution_count": 28,
     "metadata": {},
     "output_type": "execute_result"
    }
   ],
   "source": [
    "callData['Imp_vol']"
   ]
  },
  {
   "cell_type": "code",
   "execution_count": 29,
   "metadata": {},
   "outputs": [
    {
     "data": {
      "text/html": [
       "<div>\n",
       "<style scoped>\n",
       "    .dataframe tbody tr th:only-of-type {\n",
       "        vertical-align: middle;\n",
       "    }\n",
       "\n",
       "    .dataframe tbody tr th {\n",
       "        vertical-align: top;\n",
       "    }\n",
       "\n",
       "    .dataframe thead th {\n",
       "        text-align: right;\n",
       "    }\n",
       "</style>\n",
       "<table border=\"1\" class=\"dataframe\">\n",
       "  <thead>\n",
       "    <tr style=\"text-align: right;\">\n",
       "      <th></th>\n",
       "      <th>Trade_date</th>\n",
       "      <th>Option_trade_price</th>\n",
       "      <th>Option_expiration</th>\n",
       "      <th>Price_strike</th>\n",
       "      <th>Underlying_last_price</th>\n",
       "      <th>TTM</th>\n",
       "      <th>r</th>\n",
       "      <th>sigma_est</th>\n",
       "      <th>Imp_vol</th>\n",
       "    </tr>\n",
       "  </thead>\n",
       "  <tbody>\n",
       "    <tr>\n",
       "      <th>0</th>\n",
       "      <td>2019-10-15</td>\n",
       "      <td>18.44</td>\n",
       "      <td>2019-11-01</td>\n",
       "      <td>220.0</td>\n",
       "      <td>236.45</td>\n",
       "      <td>7.189384e-15</td>\n",
       "      <td>0.01</td>\n",
       "      <td>0.01</td>\n",
       "      <td>9.925856e+04</td>\n",
       "    </tr>\n",
       "    <tr>\n",
       "      <th>2</th>\n",
       "      <td>2019-10-15</td>\n",
       "      <td>2.80</td>\n",
       "      <td>2020-01-17</td>\n",
       "      <td>260.0</td>\n",
       "      <td>236.45</td>\n",
       "      <td>3.975307e-14</td>\n",
       "      <td>0.01</td>\n",
       "      <td>0.01</td>\n",
       "      <td>inf</td>\n",
       "    </tr>\n",
       "    <tr>\n",
       "      <th>3</th>\n",
       "      <td>2019-10-15</td>\n",
       "      <td>15.80</td>\n",
       "      <td>2019-12-20</td>\n",
       "      <td>225.0</td>\n",
       "      <td>236.45</td>\n",
       "      <td>2.791173e-14</td>\n",
       "      <td>0.01</td>\n",
       "      <td>0.01</td>\n",
       "      <td>1.101176e+05</td>\n",
       "    </tr>\n",
       "    <tr>\n",
       "      <th>4</th>\n",
       "      <td>2019-10-15</td>\n",
       "      <td>12.10</td>\n",
       "      <td>2019-12-20</td>\n",
       "      <td>235.0</td>\n",
       "      <td>236.45</td>\n",
       "      <td>2.791173e-14</td>\n",
       "      <td>0.01</td>\n",
       "      <td>0.01</td>\n",
       "      <td>2.695982e+05</td>\n",
       "    </tr>\n",
       "    <tr>\n",
       "      <th>5</th>\n",
       "      <td>2019-10-15</td>\n",
       "      <td>7.05</td>\n",
       "      <td>2019-10-18</td>\n",
       "      <td>230.0</td>\n",
       "      <td>236.45</td>\n",
       "      <td>1.268715e-15</td>\n",
       "      <td>0.01</td>\n",
       "      <td>0.01</td>\n",
       "      <td>7.124099e+04</td>\n",
       "    </tr>\n",
       "  </tbody>\n",
       "</table>\n",
       "</div>"
      ],
      "text/plain": [
       "  Trade_date  Option_trade_price Option_expiration  Price_strike  \\\n",
       "0 2019-10-15               18.44        2019-11-01         220.0   \n",
       "2 2019-10-15                2.80        2020-01-17         260.0   \n",
       "3 2019-10-15               15.80        2019-12-20         225.0   \n",
       "4 2019-10-15               12.10        2019-12-20         235.0   \n",
       "5 2019-10-15                7.05        2019-10-18         230.0   \n",
       "\n",
       "   Underlying_last_price           TTM     r  sigma_est       Imp_vol  \n",
       "0                 236.45  7.189384e-15  0.01       0.01  9.925856e+04  \n",
       "2                 236.45  3.975307e-14  0.01       0.01           inf  \n",
       "3                 236.45  2.791173e-14  0.01       0.01  1.101176e+05  \n",
       "4                 236.45  2.791173e-14  0.01       0.01  2.695982e+05  \n",
       "5                 236.45  1.268715e-15  0.01       0.01  7.124099e+04  "
      ]
     },
     "execution_count": 29,
     "metadata": {},
     "output_type": "execute_result"
    }
   ],
   "source": [
    "callData.head()"
   ]
  },
  {
   "cell_type": "code",
   "execution_count": null,
   "metadata": {},
   "outputs": [],
   "source": []
  }
 ],
 "metadata": {
  "kernelspec": {
   "display_name": "Python 3",
   "language": "python",
   "name": "python3"
  },
  "language_info": {
   "codemirror_mode": {
    "name": "ipython",
    "version": 3
   },
   "file_extension": ".py",
   "mimetype": "text/x-python",
   "name": "python",
   "nbconvert_exporter": "python",
   "pygments_lexer": "ipython3",
   "version": "3.7.3"
  }
 },
 "nbformat": 4,
 "nbformat_minor": 2
}
