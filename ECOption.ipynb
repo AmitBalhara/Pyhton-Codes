{
 "cells": [
  {
   "cell_type": "code",
   "execution_count": 1,
   "metadata": {},
   "outputs": [],
   "source": [
    "s0 = 100\n",
    "k = 105\n",
    "t = 1.0\n",
    "r = 0.05\n",
    "sigma = 0.2\n"
   ]
  },
  {
   "cell_type": "code",
   "execution_count": 2,
   "metadata": {},
   "outputs": [],
   "source": [
    "from numpy import *\n",
    "i = 100000\n",
    "z = random.standard_normal(i)\n",
    "st = s0 * exp((r-0.5*sigma**2)*t + sigma*sqrt(t)*z)\n",
    "ht = maximum(st-k,0)\n",
    "c0 = exp(-r*t)*sum(ht)/i"
   ]
  },
  {
   "cell_type": "code",
   "execution_count": 5,
   "metadata": {},
   "outputs": [
    {
     "name": "stdout",
     "output_type": "stream",
     "text": [
      "value of the european call option 8.018\n"
     ]
    }
   ],
   "source": [
    "print(\"value of the european call option %5.3f\"%c0)"
   ]
  },
  {
   "cell_type": "code",
   "execution_count": null,
   "metadata": {},
   "outputs": [],
   "source": []
  }
 ],
 "metadata": {
  "kernelspec": {
   "display_name": "Python 3",
   "language": "python",
   "name": "python3"
  },
  "language_info": {
   "codemirror_mode": {
    "name": "ipython",
    "version": 3
   },
   "file_extension": ".py",
   "mimetype": "text/x-python",
   "name": "python",
   "nbconvert_exporter": "python",
   "pygments_lexer": "ipython3",
   "version": "3.7.3"
  }
 },
 "nbformat": 4,
 "nbformat_minor": 2
}
