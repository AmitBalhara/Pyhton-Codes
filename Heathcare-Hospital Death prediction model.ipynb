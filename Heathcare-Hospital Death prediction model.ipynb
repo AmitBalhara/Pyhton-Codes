{
 "cells": [
  {
   "cell_type": "code",
   "execution_count": 1,
   "metadata": {},
   "outputs": [],
   "source": [
    "### Amit Balhara, Jade Zhang\n",
    "### Data competition\n",
    "### Extracted from Two notebooks - Traning_DT and Training_lgbm\n",
    "### Visulizaiton & other works are in different files"
   ]
  },
  {
   "cell_type": "code",
   "execution_count": 105,
   "metadata": {},
   "outputs": [],
   "source": [
    "# import packages\n",
    "import pandas as pd\n",
    "import numpy as np\n",
    "import lightgbm as lgb\n",
    "from sklearn.preprocessing import LabelEncoder, OneHotEncoder\n",
    "from sklearn.model_selection import StratifiedKFold\n",
    "from sklearn.metrics import roc_auc_score\n"
   ]
  },
  {
   "cell_type": "code",
   "execution_count": 47,
   "metadata": {},
   "outputs": [],
   "source": [
    "# import the dataset\n",
    "\n",
    "# training data\n",
    "data = pd.read_csv('training_v2.csv')\n",
    "# test data (for submission)\n",
    "submission = pd.read_csv('unlabeled.csv')"
   ]
  },
  {
   "cell_type": "code",
   "execution_count": 90,
   "metadata": {},
   "outputs": [],
   "source": [
    "# define the columns of the traning set\n",
    "columns = [x for x in data.columns if x not in ['encounter_id','patient_id','hospital_death','readmission_status']]"
   ]
  },
  {
   "cell_type": "code",
   "execution_count": 49,
   "metadata": {},
   "outputs": [
    {
     "data": {
      "text/plain": [
       "['hospital_id',\n",
       " 'age',\n",
       " 'bmi',\n",
       " 'elective_surgery',\n",
       " 'ethnicity',\n",
       " 'gender',\n",
       " 'height',\n",
       " 'hospital_admit_source',\n",
       " 'icu_admit_source',\n",
       " 'icu_id',\n",
       " 'icu_stay_type',\n",
       " 'icu_type',\n",
       " 'pre_icu_los_days',\n",
       " 'weight',\n",
       " 'albumin_apache',\n",
       " 'apache_2_diagnosis',\n",
       " 'apache_3j_diagnosis',\n",
       " 'apache_post_operative',\n",
       " 'arf_apache',\n",
       " 'bilirubin_apache',\n",
       " 'bun_apache',\n",
       " 'creatinine_apache',\n",
       " 'fio2_apache',\n",
       " 'gcs_eyes_apache',\n",
       " 'gcs_motor_apache',\n",
       " 'gcs_unable_apache',\n",
       " 'gcs_verbal_apache',\n",
       " 'glucose_apache',\n",
       " 'heart_rate_apache',\n",
       " 'hematocrit_apache',\n",
       " 'intubated_apache',\n",
       " 'map_apache',\n",
       " 'paco2_apache',\n",
       " 'paco2_for_ph_apache',\n",
       " 'pao2_apache',\n",
       " 'ph_apache',\n",
       " 'resprate_apache',\n",
       " 'sodium_apache',\n",
       " 'temp_apache',\n",
       " 'urineoutput_apache',\n",
       " 'ventilated_apache',\n",
       " 'wbc_apache',\n",
       " 'd1_diasbp_invasive_max',\n",
       " 'd1_diasbp_invasive_min',\n",
       " 'd1_diasbp_max',\n",
       " 'd1_diasbp_min',\n",
       " 'd1_diasbp_noninvasive_max',\n",
       " 'd1_diasbp_noninvasive_min',\n",
       " 'd1_heartrate_max',\n",
       " 'd1_heartrate_min',\n",
       " 'd1_mbp_invasive_max',\n",
       " 'd1_mbp_invasive_min',\n",
       " 'd1_mbp_max',\n",
       " 'd1_mbp_min',\n",
       " 'd1_mbp_noninvasive_max',\n",
       " 'd1_mbp_noninvasive_min',\n",
       " 'd1_resprate_max',\n",
       " 'd1_resprate_min',\n",
       " 'd1_spo2_max',\n",
       " 'd1_spo2_min',\n",
       " 'd1_sysbp_invasive_max',\n",
       " 'd1_sysbp_invasive_min',\n",
       " 'd1_sysbp_max',\n",
       " 'd1_sysbp_min',\n",
       " 'd1_sysbp_noninvasive_max',\n",
       " 'd1_sysbp_noninvasive_min',\n",
       " 'd1_temp_max',\n",
       " 'd1_temp_min',\n",
       " 'h1_diasbp_invasive_max',\n",
       " 'h1_diasbp_invasive_min',\n",
       " 'h1_diasbp_max',\n",
       " 'h1_diasbp_min',\n",
       " 'h1_diasbp_noninvasive_max',\n",
       " 'h1_diasbp_noninvasive_min',\n",
       " 'h1_heartrate_max',\n",
       " 'h1_heartrate_min',\n",
       " 'h1_mbp_invasive_max',\n",
       " 'h1_mbp_invasive_min',\n",
       " 'h1_mbp_max',\n",
       " 'h1_mbp_min',\n",
       " 'h1_mbp_noninvasive_max',\n",
       " 'h1_mbp_noninvasive_min',\n",
       " 'h1_resprate_max',\n",
       " 'h1_resprate_min',\n",
       " 'h1_spo2_max',\n",
       " 'h1_spo2_min',\n",
       " 'h1_sysbp_invasive_max',\n",
       " 'h1_sysbp_invasive_min',\n",
       " 'h1_sysbp_max',\n",
       " 'h1_sysbp_min',\n",
       " 'h1_sysbp_noninvasive_max',\n",
       " 'h1_sysbp_noninvasive_min',\n",
       " 'h1_temp_max',\n",
       " 'h1_temp_min',\n",
       " 'd1_albumin_max',\n",
       " 'd1_albumin_min',\n",
       " 'd1_bilirubin_max',\n",
       " 'd1_bilirubin_min',\n",
       " 'd1_bun_max',\n",
       " 'd1_bun_min',\n",
       " 'd1_calcium_max',\n",
       " 'd1_calcium_min',\n",
       " 'd1_creatinine_max',\n",
       " 'd1_creatinine_min',\n",
       " 'd1_glucose_max',\n",
       " 'd1_glucose_min',\n",
       " 'd1_hco3_max',\n",
       " 'd1_hco3_min',\n",
       " 'd1_hemaglobin_max',\n",
       " 'd1_hemaglobin_min',\n",
       " 'd1_hematocrit_max',\n",
       " 'd1_hematocrit_min',\n",
       " 'd1_inr_max',\n",
       " 'd1_inr_min',\n",
       " 'd1_lactate_max',\n",
       " 'd1_lactate_min',\n",
       " 'd1_platelets_max',\n",
       " 'd1_platelets_min',\n",
       " 'd1_potassium_max',\n",
       " 'd1_potassium_min',\n",
       " 'd1_sodium_max',\n",
       " 'd1_sodium_min',\n",
       " 'd1_wbc_max',\n",
       " 'd1_wbc_min',\n",
       " 'h1_albumin_max',\n",
       " 'h1_albumin_min',\n",
       " 'h1_bilirubin_max',\n",
       " 'h1_bilirubin_min',\n",
       " 'h1_bun_max',\n",
       " 'h1_bun_min',\n",
       " 'h1_calcium_max',\n",
       " 'h1_calcium_min',\n",
       " 'h1_creatinine_max',\n",
       " 'h1_creatinine_min',\n",
       " 'h1_glucose_max',\n",
       " 'h1_glucose_min',\n",
       " 'h1_hco3_max',\n",
       " 'h1_hco3_min',\n",
       " 'h1_hemaglobin_max',\n",
       " 'h1_hemaglobin_min',\n",
       " 'h1_hematocrit_max',\n",
       " 'h1_hematocrit_min',\n",
       " 'h1_inr_max',\n",
       " 'h1_inr_min',\n",
       " 'h1_lactate_max',\n",
       " 'h1_lactate_min',\n",
       " 'h1_platelets_max',\n",
       " 'h1_platelets_min',\n",
       " 'h1_potassium_max',\n",
       " 'h1_potassium_min',\n",
       " 'h1_sodium_max',\n",
       " 'h1_sodium_min',\n",
       " 'h1_wbc_max',\n",
       " 'h1_wbc_min',\n",
       " 'd1_arterial_pco2_max',\n",
       " 'd1_arterial_pco2_min',\n",
       " 'd1_arterial_ph_max',\n",
       " 'd1_arterial_ph_min',\n",
       " 'd1_arterial_po2_max',\n",
       " 'd1_arterial_po2_min',\n",
       " 'd1_pao2fio2ratio_max',\n",
       " 'd1_pao2fio2ratio_min',\n",
       " 'h1_arterial_pco2_max',\n",
       " 'h1_arterial_pco2_min',\n",
       " 'h1_arterial_ph_max',\n",
       " 'h1_arterial_ph_min',\n",
       " 'h1_arterial_po2_max',\n",
       " 'h1_arterial_po2_min',\n",
       " 'h1_pao2fio2ratio_max',\n",
       " 'h1_pao2fio2ratio_min',\n",
       " 'apache_4a_hospital_death_prob',\n",
       " 'apache_4a_icu_death_prob',\n",
       " 'aids',\n",
       " 'cirrhosis',\n",
       " 'diabetes_mellitus',\n",
       " 'hepatic_failure',\n",
       " 'immunosuppression',\n",
       " 'leukemia',\n",
       " 'lymphoma',\n",
       " 'solid_tumor_with_metastasis',\n",
       " 'apache_3j_bodysystem',\n",
       " 'apache_2_bodysystem']"
      ]
     },
     "execution_count": 49,
     "metadata": {},
     "output_type": "execute_result"
    }
   ],
   "source": [
    "columns"
   ]
  },
  {
   "cell_type": "code",
   "execution_count": 50,
   "metadata": {},
   "outputs": [
    {
     "data": {
      "text/plain": [
       "['ethnicity',\n",
       " 'gender',\n",
       " 'hospital_admit_source',\n",
       " 'icu_admit_source',\n",
       " 'icu_stay_type',\n",
       " 'icu_type',\n",
       " 'apache_3j_bodysystem',\n",
       " 'apache_2_bodysystem']"
      ]
     },
     "execution_count": 50,
     "metadata": {},
     "output_type": "execute_result"
    }
   ],
   "source": [
    "# find the categorical features and put them into a list\n",
    "categorical_features = []\n",
    "for x in columns:\n",
    "    if (data[x].dtypes == 'object'):\n",
    "        categorical_features.append(x)\n",
    "categorical_features"
   ]
  },
  {
   "cell_type": "code",
   "execution_count": 51,
   "metadata": {},
   "outputs": [],
   "source": [
    "# join the categorical data in the two sets as a dataframe\n",
    "categorical = pd.concat([data[categorical_features],submission[categorical_features]])"
   ]
  },
  {
   "cell_type": "code",
   "execution_count": 52,
   "metadata": {},
   "outputs": [
    {
     "data": {
      "text/html": [
       "<div>\n",
       "<style scoped>\n",
       "    .dataframe tbody tr th:only-of-type {\n",
       "        vertical-align: middle;\n",
       "    }\n",
       "\n",
       "    .dataframe tbody tr th {\n",
       "        vertical-align: top;\n",
       "    }\n",
       "\n",
       "    .dataframe thead th {\n",
       "        text-align: right;\n",
       "    }\n",
       "</style>\n",
       "<table border=\"1\" class=\"dataframe\">\n",
       "  <thead>\n",
       "    <tr style=\"text-align: right;\">\n",
       "      <th></th>\n",
       "      <th>ethnicity</th>\n",
       "      <th>gender</th>\n",
       "      <th>hospital_admit_source</th>\n",
       "      <th>icu_admit_source</th>\n",
       "      <th>icu_stay_type</th>\n",
       "      <th>icu_type</th>\n",
       "      <th>apache_3j_bodysystem</th>\n",
       "      <th>apache_2_bodysystem</th>\n",
       "    </tr>\n",
       "  </thead>\n",
       "  <tbody>\n",
       "    <tr>\n",
       "      <td>0</td>\n",
       "      <td>Caucasian</td>\n",
       "      <td>M</td>\n",
       "      <td>Floor</td>\n",
       "      <td>Floor</td>\n",
       "      <td>admit</td>\n",
       "      <td>CTICU</td>\n",
       "      <td>Sepsis</td>\n",
       "      <td>Cardiovascular</td>\n",
       "    </tr>\n",
       "    <tr>\n",
       "      <td>1</td>\n",
       "      <td>Caucasian</td>\n",
       "      <td>F</td>\n",
       "      <td>Floor</td>\n",
       "      <td>Floor</td>\n",
       "      <td>admit</td>\n",
       "      <td>Med-Surg ICU</td>\n",
       "      <td>Respiratory</td>\n",
       "      <td>Respiratory</td>\n",
       "    </tr>\n",
       "    <tr>\n",
       "      <td>2</td>\n",
       "      <td>Caucasian</td>\n",
       "      <td>F</td>\n",
       "      <td>Emergency Department</td>\n",
       "      <td>Accident &amp; Emergency</td>\n",
       "      <td>admit</td>\n",
       "      <td>Med-Surg ICU</td>\n",
       "      <td>Metabolic</td>\n",
       "      <td>Metabolic</td>\n",
       "    </tr>\n",
       "    <tr>\n",
       "      <td>3</td>\n",
       "      <td>Caucasian</td>\n",
       "      <td>F</td>\n",
       "      <td>Operating Room</td>\n",
       "      <td>Operating Room / Recovery</td>\n",
       "      <td>admit</td>\n",
       "      <td>CTICU</td>\n",
       "      <td>Cardiovascular</td>\n",
       "      <td>Cardiovascular</td>\n",
       "    </tr>\n",
       "    <tr>\n",
       "      <td>4</td>\n",
       "      <td>Caucasian</td>\n",
       "      <td>M</td>\n",
       "      <td>NaN</td>\n",
       "      <td>Accident &amp; Emergency</td>\n",
       "      <td>admit</td>\n",
       "      <td>Med-Surg ICU</td>\n",
       "      <td>Trauma</td>\n",
       "      <td>Trauma</td>\n",
       "    </tr>\n",
       "  </tbody>\n",
       "</table>\n",
       "</div>"
      ],
      "text/plain": [
       "   ethnicity gender hospital_admit_source           icu_admit_source  \\\n",
       "0  Caucasian      M                 Floor                      Floor   \n",
       "1  Caucasian      F                 Floor                      Floor   \n",
       "2  Caucasian      F  Emergency Department       Accident & Emergency   \n",
       "3  Caucasian      F        Operating Room  Operating Room / Recovery   \n",
       "4  Caucasian      M                   NaN       Accident & Emergency   \n",
       "\n",
       "  icu_stay_type      icu_type apache_3j_bodysystem apache_2_bodysystem  \n",
       "0         admit         CTICU               Sepsis      Cardiovascular  \n",
       "1         admit  Med-Surg ICU          Respiratory         Respiratory  \n",
       "2         admit  Med-Surg ICU            Metabolic           Metabolic  \n",
       "3         admit         CTICU       Cardiovascular      Cardiovascular  \n",
       "4         admit  Med-Surg ICU               Trauma              Trauma  "
      ]
     },
     "execution_count": 52,
     "metadata": {},
     "output_type": "execute_result"
    }
   ],
   "source": [
    "categorical.head()"
   ]
  },
  {
   "cell_type": "code",
   "execution_count": 53,
   "metadata": {},
   "outputs": [],
   "source": [
    "###### change the categorical variables to numbers, meanwhile skip the null values"
   ]
  },
  {
   "cell_type": "code",
   "execution_count": 54,
   "metadata": {},
   "outputs": [],
   "source": [
    "#********************************\n",
    "#********** this function is used to store the fit result of label encoders for the categorical columns\n",
    "#********************************\n",
    "\n",
    "def labelencoders(data, variables):\n",
    "    labels=[]\n",
    "    # for each column\n",
    "    for x in variables:\n",
    "        l = LabelEncoder()\n",
    "        data_nomissing = list(data[x].dropna())\n",
    "        labels.append(l.fit(data_nomissing))\n",
    "    \n",
    "    return labels"
   ]
  },
  {
   "cell_type": "code",
   "execution_count": 55,
   "metadata": {},
   "outputs": [],
   "source": [
    "#********************************\n",
    "#********** this function is used to transform the labels to normalized encoding (aka numbers)\n",
    "#********************************\n",
    "def encoding(data, l, variables):\n",
    "    i = 0\n",
    "    # for each column \n",
    "    for x in variables:\n",
    "        data_nomissing = data[x].notnull()\n",
    "        data.loc[data_nomissing,x]=l[i].transform(data.loc[data_nomissing,x])\n",
    "        i=i+1"
   ]
  },
  {
   "cell_type": "code",
   "execution_count": 59,
   "metadata": {},
   "outputs": [
    {
     "data": {
      "text/plain": [
       "[LabelEncoder(),\n",
       " LabelEncoder(),\n",
       " LabelEncoder(),\n",
       " LabelEncoder(),\n",
       " LabelEncoder(),\n",
       " LabelEncoder(),\n",
       " LabelEncoder(),\n",
       " LabelEncoder()]"
      ]
     },
     "execution_count": 59,
     "metadata": {},
     "output_type": "execute_result"
    }
   ],
   "source": [
    "# get the label encoders for all the categorical columns\n",
    "labelencoder = labelencoders(categorical, categorical_features)\n",
    "labelencoder"
   ]
  },
  {
   "cell_type": "code",
   "execution_count": 60,
   "metadata": {},
   "outputs": [],
   "source": [
    "# label encoding two datasets\n",
    "encoding(data,labelencoder,categorical_features)\n",
    "encoding(submission,labelencoder,categorical_features)"
   ]
  },
  {
   "cell_type": "code",
   "execution_count": 61,
   "metadata": {},
   "outputs": [
    {
     "data": {
      "text/html": [
       "<div>\n",
       "<style scoped>\n",
       "    .dataframe tbody tr th:only-of-type {\n",
       "        vertical-align: middle;\n",
       "    }\n",
       "\n",
       "    .dataframe tbody tr th {\n",
       "        vertical-align: top;\n",
       "    }\n",
       "\n",
       "    .dataframe thead th {\n",
       "        text-align: right;\n",
       "    }\n",
       "</style>\n",
       "<table border=\"1\" class=\"dataframe\">\n",
       "  <thead>\n",
       "    <tr style=\"text-align: right;\">\n",
       "      <th></th>\n",
       "      <th>ethnicity</th>\n",
       "      <th>gender</th>\n",
       "      <th>hospital_admit_source</th>\n",
       "      <th>icu_admit_source</th>\n",
       "      <th>icu_stay_type</th>\n",
       "      <th>icu_type</th>\n",
       "      <th>apache_3j_bodysystem</th>\n",
       "      <th>apache_2_bodysystem</th>\n",
       "    </tr>\n",
       "  </thead>\n",
       "  <tbody>\n",
       "    <tr>\n",
       "      <td>0</td>\n",
       "      <td>2</td>\n",
       "      <td>1</td>\n",
       "      <td>4</td>\n",
       "      <td>1</td>\n",
       "      <td>0</td>\n",
       "      <td>2</td>\n",
       "      <td>9</td>\n",
       "      <td>0</td>\n",
       "    </tr>\n",
       "    <tr>\n",
       "      <td>1</td>\n",
       "      <td>2</td>\n",
       "      <td>0</td>\n",
       "      <td>4</td>\n",
       "      <td>1</td>\n",
       "      <td>0</td>\n",
       "      <td>5</td>\n",
       "      <td>8</td>\n",
       "      <td>6</td>\n",
       "    </tr>\n",
       "    <tr>\n",
       "      <td>2</td>\n",
       "      <td>2</td>\n",
       "      <td>0</td>\n",
       "      <td>3</td>\n",
       "      <td>0</td>\n",
       "      <td>0</td>\n",
       "      <td>5</td>\n",
       "      <td>5</td>\n",
       "      <td>3</td>\n",
       "    </tr>\n",
       "    <tr>\n",
       "      <td>3</td>\n",
       "      <td>2</td>\n",
       "      <td>0</td>\n",
       "      <td>8</td>\n",
       "      <td>2</td>\n",
       "      <td>0</td>\n",
       "      <td>2</td>\n",
       "      <td>0</td>\n",
       "      <td>0</td>\n",
       "    </tr>\n",
       "    <tr>\n",
       "      <td>4</td>\n",
       "      <td>2</td>\n",
       "      <td>1</td>\n",
       "      <td>NaN</td>\n",
       "      <td>0</td>\n",
       "      <td>0</td>\n",
       "      <td>5</td>\n",
       "      <td>10</td>\n",
       "      <td>7</td>\n",
       "    </tr>\n",
       "  </tbody>\n",
       "</table>\n",
       "</div>"
      ],
      "text/plain": [
       "  ethnicity gender hospital_admit_source icu_admit_source  icu_stay_type  \\\n",
       "0         2      1                     4                1              0   \n",
       "1         2      0                     4                1              0   \n",
       "2         2      0                     3                0              0   \n",
       "3         2      0                     8                2              0   \n",
       "4         2      1                   NaN                0              0   \n",
       "\n",
       "   icu_type apache_3j_bodysystem apache_2_bodysystem  \n",
       "0         2                    9                   0  \n",
       "1         5                    8                   6  \n",
       "2         5                    5                   3  \n",
       "3         2                    0                   0  \n",
       "4         5                   10                   7  "
      ]
     },
     "execution_count": 61,
     "metadata": {},
     "output_type": "execute_result"
    }
   ],
   "source": [
    "data[categorical_features].head()"
   ]
  },
  {
   "cell_type": "code",
   "execution_count": 62,
   "metadata": {},
   "outputs": [
    {
     "data": {
      "text/html": [
       "<div>\n",
       "<style scoped>\n",
       "    .dataframe tbody tr th:only-of-type {\n",
       "        vertical-align: middle;\n",
       "    }\n",
       "\n",
       "    .dataframe tbody tr th {\n",
       "        vertical-align: top;\n",
       "    }\n",
       "\n",
       "    .dataframe thead th {\n",
       "        text-align: right;\n",
       "    }\n",
       "</style>\n",
       "<table border=\"1\" class=\"dataframe\">\n",
       "  <thead>\n",
       "    <tr style=\"text-align: right;\">\n",
       "      <th></th>\n",
       "      <th>ethnicity</th>\n",
       "      <th>gender</th>\n",
       "      <th>hospital_admit_source</th>\n",
       "      <th>icu_admit_source</th>\n",
       "      <th>icu_stay_type</th>\n",
       "      <th>icu_type</th>\n",
       "      <th>apache_3j_bodysystem</th>\n",
       "      <th>apache_2_bodysystem</th>\n",
       "    </tr>\n",
       "  </thead>\n",
       "  <tbody>\n",
       "    <tr>\n",
       "      <td>0</td>\n",
       "      <td>2</td>\n",
       "      <td>1</td>\n",
       "      <td>3</td>\n",
       "      <td>0</td>\n",
       "      <td>0</td>\n",
       "      <td>6</td>\n",
       "      <td>7</td>\n",
       "      <td>4</td>\n",
       "    </tr>\n",
       "    <tr>\n",
       "      <td>1</td>\n",
       "      <td>2</td>\n",
       "      <td>0</td>\n",
       "      <td>8</td>\n",
       "      <td>2</td>\n",
       "      <td>0</td>\n",
       "      <td>5</td>\n",
       "      <td>7</td>\n",
       "      <td>4</td>\n",
       "    </tr>\n",
       "    <tr>\n",
       "      <td>2</td>\n",
       "      <td>0</td>\n",
       "      <td>1</td>\n",
       "      <td>8</td>\n",
       "      <td>2</td>\n",
       "      <td>0</td>\n",
       "      <td>0</td>\n",
       "      <td>0</td>\n",
       "      <td>0</td>\n",
       "    </tr>\n",
       "    <tr>\n",
       "      <td>3</td>\n",
       "      <td>2</td>\n",
       "      <td>1</td>\n",
       "      <td>8</td>\n",
       "      <td>2</td>\n",
       "      <td>0</td>\n",
       "      <td>5</td>\n",
       "      <td>8</td>\n",
       "      <td>6</td>\n",
       "    </tr>\n",
       "    <tr>\n",
       "      <td>4</td>\n",
       "      <td>2</td>\n",
       "      <td>1</td>\n",
       "      <td>3</td>\n",
       "      <td>0</td>\n",
       "      <td>0</td>\n",
       "      <td>6</td>\n",
       "      <td>7</td>\n",
       "      <td>4</td>\n",
       "    </tr>\n",
       "  </tbody>\n",
       "</table>\n",
       "</div>"
      ],
      "text/plain": [
       "  ethnicity gender hospital_admit_source icu_admit_source  icu_stay_type  \\\n",
       "0         2      1                     3                0              0   \n",
       "1         2      0                     8                2              0   \n",
       "2         0      1                     8                2              0   \n",
       "3         2      1                     8                2              0   \n",
       "4         2      1                     3                0              0   \n",
       "\n",
       "   icu_type apache_3j_bodysystem apache_2_bodysystem  \n",
       "0         6                    7                   4  \n",
       "1         5                    7                   4  \n",
       "2         0                    0                   0  \n",
       "3         5                    8                   6  \n",
       "4         6                    7                   4  "
      ]
     },
     "execution_count": 62,
     "metadata": {},
     "output_type": "execute_result"
    }
   ],
   "source": [
    "submission[categorical_features].head()"
   ]
  },
  {
   "cell_type": "code",
   "execution_count": 65,
   "metadata": {},
   "outputs": [
    {
     "data": {
      "text/plain": [
       "ethnicity                object\n",
       "gender                   object\n",
       "hospital_admit_source    object\n",
       "icu_admit_source         object\n",
       "icu_stay_type             int32\n",
       "icu_type                  int32\n",
       "apache_3j_bodysystem     object\n",
       "apache_2_bodysystem      object\n",
       "dtype: object"
      ]
     },
     "execution_count": 65,
     "metadata": {},
     "output_type": "execute_result"
    }
   ],
   "source": [
    "submission[categorical_features].dtypes"
   ]
  },
  {
   "cell_type": "code",
   "execution_count": 66,
   "metadata": {},
   "outputs": [],
   "source": [
    "# convert the data type of categorical features to float\n",
    "\n",
    "# for each dataframe\n",
    "for df in [data, submission]:\n",
    "    # for each column\n",
    "    for x in categorical_features:\n",
    "        df[x] = df[x].astype(float)"
   ]
  },
  {
   "cell_type": "code",
   "execution_count": 70,
   "metadata": {},
   "outputs": [],
   "source": [
    "# define the dependent variable\n",
    "y = data['hospital_death']"
   ]
  },
  {
   "cell_type": "code",
   "execution_count": 71,
   "metadata": {},
   "outputs": [],
   "source": [
    "# define the traning parameters\n",
    "param = {'task': 'train',\n",
    "         'boosting': 'gbdt',\n",
    "         'objective':'binary',\n",
    "         'metric': 'auc',\n",
    "         'num_leaves': 64, #10-80\n",
    "         'min_data_in_leaf': 64,  #40-180\n",
    "         'learning_rate': 0.01,\n",
    "         'max_depth': 10,          #10-50\n",
    "         'feature_fraction': 0.1,\n",
    "         'bagging_freq': 1,\n",
    "         'bagging_fraction': 0.75,\n",
    "         'use_missing': True,\n",
    "         'nthread': 8\n",
    "        }"
   ]
  },
  {
   "cell_type": "code",
   "execution_count": 107,
   "metadata": {},
   "outputs": [],
   "source": [
    "# k-folds validation\n",
    "folds = StratifiedKFold(n_splits = 5, shuffle = True, random_state = 42)\n",
    "# out of fold\n",
    "oof = np.zeros(len(data))\n",
    "# roc_auc_score\n",
    "scores = []\n",
    "# predictions\n",
    "predictions = np.zeros(len(submission))"
   ]
  },
  {
   "cell_type": "code",
   "execution_count": 85,
   "metadata": {
    "scrolled": true
   },
   "outputs": [
    {
     "name": "stdout",
     "output_type": "stream",
     "text": [
      "0 [    0     1     2 ... 91707 91709 91710] [    5     7    12 ... 91708 91711 91712]\n",
      "1 [    0     1     2 ... 91710 91711 91712] [    4     8    11 ... 91687 91689 91696]\n",
      "2 [    1     2     3 ... 91710 91711 91712] [    0    13    14 ... 91702 91705 91706]\n",
      "3 [    0     1     2 ... 91710 91711 91712] [    3    18    21 ... 91700 91704 91709]\n",
      "4 [    0     3     4 ... 91709 91711 91712] [    1     2     6 ... 91701 91707 91710]\n"
     ]
    }
   ],
   "source": [
    "for fold_, (train_idx, test_idx) in enumerate(folds.split(data, y.values)):\n",
    "    print(fold_, train_idx, test_idx)"
   ]
  },
  {
   "cell_type": "code",
   "execution_count": 98,
   "metadata": {},
   "outputs": [
    {
     "data": {
      "text/plain": [
       "[4, 5, 7, 8, 10, 11, 180, 181]"
      ]
     },
     "execution_count": 98,
     "metadata": {},
     "output_type": "execute_result"
    }
   ],
   "source": [
    "# get the indexes of the categorical features\n",
    "categorical_index = [columns.index(x) for x in categorical_features]\n",
    "categorical_index"
   ]
  },
  {
   "cell_type": "code",
   "execution_count": 108,
   "metadata": {},
   "outputs": [
    {
     "name": "stdout",
     "output_type": "stream",
     "text": [
      "fold:  0\n"
     ]
    },
    {
     "name": "stderr",
     "output_type": "stream",
     "text": [
      "C:\\Users\\Shuyu\\.conda\\envs\\fullcombo\\lib\\site-packages\\lightgbm\\basic.py:1188: UserWarning: categorical_feature in Dataset is overridden.\n",
      "New categorical_feature is [4, 5, 7, 8, 10, 11, 180, 181]\n",
      "  'New categorical_feature is {}'.format(sorted(list(categorical_feature))))\n",
      "C:\\Users\\Shuyu\\.conda\\envs\\fullcombo\\lib\\site-packages\\lightgbm\\basic.py:742: UserWarning: categorical_feature in param dict is overridden.\n",
      "  warnings.warn('categorical_feature in param dict is overridden.')\n"
     ]
    },
    {
     "name": "stdout",
     "output_type": "stream",
     "text": [
      "Training until validation scores don't improve for 100 rounds.\n",
      "[200]\tvalid_0's auc: 0.895731\n",
      "[400]\tvalid_0's auc: 0.901359\n",
      "[600]\tvalid_0's auc: 0.904841\n",
      "[800]\tvalid_0's auc: 0.906707\n",
      "[1000]\tvalid_0's auc: 0.90803\n",
      "[1200]\tvalid_0's auc: 0.908562\n",
      "[1400]\tvalid_0's auc: 0.909095\n",
      "Early stopping, best iteration is:\n",
      "[1421]\tvalid_0's auc: 0.909193\n",
      "0.5163657221181815\n",
      "mean: 0.9091929540749942\n",
      "std: 0.0\n",
      "fold:  1\n"
     ]
    },
    {
     "name": "stderr",
     "output_type": "stream",
     "text": [
      "C:\\Users\\Shuyu\\.conda\\envs\\fullcombo\\lib\\site-packages\\lightgbm\\basic.py:1188: UserWarning: categorical_feature in Dataset is overridden.\n",
      "New categorical_feature is [4, 5, 7, 8, 10, 11, 180, 181]\n",
      "  'New categorical_feature is {}'.format(sorted(list(categorical_feature))))\n",
      "C:\\Users\\Shuyu\\.conda\\envs\\fullcombo\\lib\\site-packages\\lightgbm\\basic.py:742: UserWarning: categorical_feature in param dict is overridden.\n",
      "  warnings.warn('categorical_feature in param dict is overridden.')\n"
     ]
    },
    {
     "name": "stdout",
     "output_type": "stream",
     "text": [
      "Training until validation scores don't improve for 100 rounds.\n",
      "[200]\tvalid_0's auc: 0.896058\n",
      "[400]\tvalid_0's auc: 0.901782\n",
      "[600]\tvalid_0's auc: 0.904919\n",
      "[800]\tvalid_0's auc: 0.906786\n",
      "[1000]\tvalid_0's auc: 0.907812\n",
      "[1200]\tvalid_0's auc: 0.908671\n",
      "[1400]\tvalid_0's auc: 0.90918\n",
      "[1600]\tvalid_0's auc: 0.9095\n",
      "[1800]\tvalid_0's auc: 0.909623\n",
      "Early stopping, best iteration is:\n",
      "[1882]\tvalid_0's auc: 0.909746\n",
      "0.5655072963188845\n",
      "mean: 0.9094693092026408\n",
      "std: 0.0002763551276465659\n",
      "fold:  2\n"
     ]
    },
    {
     "name": "stderr",
     "output_type": "stream",
     "text": [
      "C:\\Users\\Shuyu\\.conda\\envs\\fullcombo\\lib\\site-packages\\lightgbm\\basic.py:1188: UserWarning: categorical_feature in Dataset is overridden.\n",
      "New categorical_feature is [4, 5, 7, 8, 10, 11, 180, 181]\n",
      "  'New categorical_feature is {}'.format(sorted(list(categorical_feature))))\n",
      "C:\\Users\\Shuyu\\.conda\\envs\\fullcombo\\lib\\site-packages\\lightgbm\\basic.py:742: UserWarning: categorical_feature in param dict is overridden.\n",
      "  warnings.warn('categorical_feature in param dict is overridden.')\n"
     ]
    },
    {
     "name": "stdout",
     "output_type": "stream",
     "text": [
      "Training until validation scores don't improve for 100 rounds.\n",
      "[200]\tvalid_0's auc: 0.891266\n",
      "[400]\tvalid_0's auc: 0.896977\n",
      "[600]\tvalid_0's auc: 0.900571\n",
      "[800]\tvalid_0's auc: 0.902299\n",
      "[1000]\tvalid_0's auc: 0.903311\n",
      "[1200]\tvalid_0's auc: 0.904015\n",
      "[1400]\tvalid_0's auc: 0.904769\n",
      "[1600]\tvalid_0's auc: 0.905026\n",
      "[1800]\tvalid_0's auc: 0.90529\n",
      "[2000]\tvalid_0's auc: 0.905401\n",
      "Early stopping, best iteration is:\n",
      "[2053]\tvalid_0's auc: 0.90549\n",
      "0.6468769806017742\n",
      "mean: 0.9081428648965666\n",
      "std: 0.0018893977255422917\n",
      "fold:  3\n"
     ]
    },
    {
     "name": "stderr",
     "output_type": "stream",
     "text": [
      "C:\\Users\\Shuyu\\.conda\\envs\\fullcombo\\lib\\site-packages\\lightgbm\\basic.py:1188: UserWarning: categorical_feature in Dataset is overridden.\n",
      "New categorical_feature is [4, 5, 7, 8, 10, 11, 180, 181]\n",
      "  'New categorical_feature is {}'.format(sorted(list(categorical_feature))))\n",
      "C:\\Users\\Shuyu\\.conda\\envs\\fullcombo\\lib\\site-packages\\lightgbm\\basic.py:742: UserWarning: categorical_feature in param dict is overridden.\n",
      "  warnings.warn('categorical_feature in param dict is overridden.')\n"
     ]
    },
    {
     "name": "stdout",
     "output_type": "stream",
     "text": [
      "Training until validation scores don't improve for 100 rounds.\n",
      "[200]\tvalid_0's auc: 0.894618\n",
      "[400]\tvalid_0's auc: 0.900089\n",
      "[600]\tvalid_0's auc: 0.903682\n",
      "[800]\tvalid_0's auc: 0.905422\n",
      "[1000]\tvalid_0's auc: 0.906338\n",
      "[1200]\tvalid_0's auc: 0.90693\n",
      "[1400]\tvalid_0's auc: 0.907346\n",
      "[1600]\tvalid_0's auc: 0.907528\n",
      "[1800]\tvalid_0's auc: 0.90777\n",
      "[2000]\tvalid_0's auc: 0.907761\n",
      "Early stopping, best iteration is:\n",
      "[1913]\tvalid_0's auc: 0.907832\n",
      "0.7610884661015207\n",
      "mean: 0.9080650608409067\n",
      "std: 0.0016418063945528654\n",
      "fold:  4\n"
     ]
    },
    {
     "name": "stderr",
     "output_type": "stream",
     "text": [
      "C:\\Users\\Shuyu\\.conda\\envs\\fullcombo\\lib\\site-packages\\lightgbm\\basic.py:1188: UserWarning: categorical_feature in Dataset is overridden.\n",
      "New categorical_feature is [4, 5, 7, 8, 10, 11, 180, 181]\n",
      "  'New categorical_feature is {}'.format(sorted(list(categorical_feature))))\n",
      "C:\\Users\\Shuyu\\.conda\\envs\\fullcombo\\lib\\site-packages\\lightgbm\\basic.py:742: UserWarning: categorical_feature in param dict is overridden.\n",
      "  warnings.warn('categorical_feature in param dict is overridden.')\n"
     ]
    },
    {
     "name": "stdout",
     "output_type": "stream",
     "text": [
      "Training until validation scores don't improve for 100 rounds.\n",
      "[200]\tvalid_0's auc: 0.896202\n",
      "[400]\tvalid_0's auc: 0.902035\n",
      "[600]\tvalid_0's auc: 0.905479\n",
      "[800]\tvalid_0's auc: 0.907127\n",
      "[1000]\tvalid_0's auc: 0.908254\n",
      "[1200]\tvalid_0's auc: 0.90899\n",
      "[1400]\tvalid_0's auc: 0.909405\n",
      "[1600]\tvalid_0's auc: 0.909668\n",
      "[1800]\tvalid_0's auc: 0.909956\n",
      "[2000]\tvalid_0's auc: 0.910132\n",
      "[2200]\tvalid_0's auc: 0.910411\n",
      "[2400]\tvalid_0's auc: 0.91045\n",
      "Early stopping, best iteration is:\n",
      "[2388]\tvalid_0's auc: 0.910484\n",
      "0.908459657000575\n",
      "mean: 0.9085488596299779\n",
      "std: 0.001758598209649655\n"
     ]
    }
   ],
   "source": [
    "for fold_, (train_idx, test_idx) in enumerate(folds.split(data, y.values)):\n",
    "    print(\"fold: \", fold_)\n",
    "    # define training data and test data\n",
    "    train_data = lgb.Dataset(data.iloc[train_idx][columns], label = y.iloc[train_idx])\n",
    "    test_data = lgb.Dataset(data.iloc[test_idx][columns], label = y.iloc[test_idx], reference = train_data)\n",
    "    \n",
    "    # other parameters of train method\n",
    "    num_boost_round = 7000\n",
    "    early_stopping_rounds = 100\n",
    "    verbose_eval = 200\n",
    "    categorical_feature = categorical_index\n",
    "    \n",
    "    # train the model\n",
    "    clf = lgb.train(param, train_data, num_boost_round = num_boost_round, valid_sets = test_data, early_stopping_rounds = early_stopping_rounds, verbose_eval = verbose_eval, categorical_feature = categorical_index)\n",
    "\n",
    "    # prediction of every row\n",
    "    oof[test_idx] = clf.predict(data.iloc[test_idx][columns], num_iteration = clf.best_iteration)\n",
    "    \n",
    "    # scores\n",
    "    score = roc_auc_score(y.loc[test_idx], clf.predict(data.loc[test_idx, columns].values, num_iteration=clf.best_iteration))\n",
    "    scores.append(score)\n",
    "\n",
    "    # predictions\n",
    "    predictions += clf.predict(submission[columns], num_iteration = clf.best_iteration) / folds.n_splits\n",
    "    \n",
    "    "
   ]
  },
  {
   "cell_type": "code",
   "execution_count": 109,
   "metadata": {},
   "outputs": [
    {
     "name": "stdout",
     "output_type": "stream",
     "text": [
      "0.908459657000575\n",
      "mean: 0.9085488596299779\n",
      "std: 0.001758598209649655\n"
     ]
    }
   ],
   "source": [
    "AUC = roc_auc_score(y, oof)\n",
    "print(AUC)\n",
    "print (\"mean: \"+str(np.mean(np.array(scores))))\n",
    "print (\"std: \"+str(np.std(np.array(scores))))"
   ]
  },
  {
   "cell_type": "code",
   "execution_count": 110,
   "metadata": {},
   "outputs": [
    {
     "data": {
      "text/plain": [
       "array([0.0112759 , 0.01993335, 0.01637289, ..., 0.07142298, 0.00766487,\n",
       "       0.13260973])"
      ]
     },
     "execution_count": 110,
     "metadata": {},
     "output_type": "execute_result"
    }
   ],
   "source": [
    "predictions"
   ]
  },
  {
   "cell_type": "code",
   "execution_count": null,
   "metadata": {},
   "outputs": [],
   "source": [
    "df_sub = pd.DataFrame({'encounter_id': df_ts['encounter_id']})\n",
    "df_sub['hospital_death'] = predictions\n",
    "\n",
    "df_sub.to_csv(\"sub1.csv\",index=False)"
   ]
  }
 ],
 "metadata": {
  "kernelspec": {
   "display_name": "Python 3",
   "language": "python",
   "name": "python3"
  },
  "language_info": {
   "codemirror_mode": {
    "name": "ipython",
    "version": 3
   },
   "file_extension": ".py",
   "mimetype": "text/x-python",
   "name": "python",
   "nbconvert_exporter": "python",
   "pygments_lexer": "ipython3",
   "version": "3.7.3"
  }
 },
 "nbformat": 4,
 "nbformat_minor": 2
}
