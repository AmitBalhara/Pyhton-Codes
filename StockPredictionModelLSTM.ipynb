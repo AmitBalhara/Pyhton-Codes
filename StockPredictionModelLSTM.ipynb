{
  "nbformat": 4,
  "nbformat_minor": 0,
  "metadata": {
    "colab": {
      "name": "Untitled1.ipynb",
      "provenance": []
    },
    "kernelspec": {
      "name": "python3",
      "display_name": "Python 3"
    }
  },
  "cells": [
    {
      "cell_type": "code",
      "metadata": {
        "id": "cUMoBAcwYn2Y",
        "colab_type": "code",
        "colab": {
          "base_uri": "https://localhost:8080/",
          "height": 92
        },
        "outputId": "b1e684ba-8f70-4de0-c418-cd17511b9bf7"
      },
      "source": [
        "#Importing Libraries\n",
        "import math\n",
        "import pandas_datareader as web\n",
        "import numpy as np\n",
        "import pandas as pd\n",
        "from sklearn.preprocessing import MinMaxScaler\n",
        "from keras.models import Sequential\n",
        "from keras.layers import Dense, LSTM\n",
        "import matplotlib.pyplot as plt\n"
      ],
      "execution_count": 1,
      "outputs": [
        {
          "output_type": "stream",
          "text": [
            "/usr/local/lib/python3.6/dist-packages/pandas_datareader/compat/__init__.py:7: FutureWarning: pandas.util.testing is deprecated. Use the functions in the public API at pandas.testing instead.\n",
            "  from pandas.util.testing import assert_frame_equal\n",
            "Using TensorFlow backend.\n"
          ],
          "name": "stderr"
        }
      ]
    },
    {
      "cell_type": "code",
      "metadata": {
        "id": "8ETQLrnTYv3C",
        "colab_type": "code",
        "colab": {
          "base_uri": "https://localhost:8080/",
          "height": 455
        },
        "outputId": "94aa60de-d15b-4210-b231-d220fa3d51b3"
      },
      "source": [
        "# Remotely accessing stock data\n",
        "df = web.DataReader('MSFT', data_source='yahoo',start = '2010-01-01', end= '2020-04-30')\n",
        "df"
      ],
      "execution_count": 2,
      "outputs": [
        {
          "output_type": "execute_result",
          "data": {
            "text/html": [
              "<div>\n",
              "<style scoped>\n",
              "    .dataframe tbody tr th:only-of-type {\n",
              "        vertical-align: middle;\n",
              "    }\n",
              "\n",
              "    .dataframe tbody tr th {\n",
              "        vertical-align: top;\n",
              "    }\n",
              "\n",
              "    .dataframe thead th {\n",
              "        text-align: right;\n",
              "    }\n",
              "</style>\n",
              "<table border=\"1\" class=\"dataframe\">\n",
              "  <thead>\n",
              "    <tr style=\"text-align: right;\">\n",
              "      <th></th>\n",
              "      <th>High</th>\n",
              "      <th>Low</th>\n",
              "      <th>Open</th>\n",
              "      <th>Close</th>\n",
              "      <th>Volume</th>\n",
              "      <th>Adj Close</th>\n",
              "    </tr>\n",
              "    <tr>\n",
              "      <th>Date</th>\n",
              "      <th></th>\n",
              "      <th></th>\n",
              "      <th></th>\n",
              "      <th></th>\n",
              "      <th></th>\n",
              "      <th></th>\n",
              "    </tr>\n",
              "  </thead>\n",
              "  <tbody>\n",
              "    <tr>\n",
              "      <th>2010-01-04</th>\n",
              "      <td>31.100000</td>\n",
              "      <td>30.590000</td>\n",
              "      <td>30.620001</td>\n",
              "      <td>30.950001</td>\n",
              "      <td>38409100.0</td>\n",
              "      <td>24.226894</td>\n",
              "    </tr>\n",
              "    <tr>\n",
              "      <th>2010-01-05</th>\n",
              "      <td>31.100000</td>\n",
              "      <td>30.639999</td>\n",
              "      <td>30.850000</td>\n",
              "      <td>30.959999</td>\n",
              "      <td>49749600.0</td>\n",
              "      <td>24.234720</td>\n",
              "    </tr>\n",
              "    <tr>\n",
              "      <th>2010-01-06</th>\n",
              "      <td>31.080000</td>\n",
              "      <td>30.520000</td>\n",
              "      <td>30.879999</td>\n",
              "      <td>30.770000</td>\n",
              "      <td>58182400.0</td>\n",
              "      <td>24.085989</td>\n",
              "    </tr>\n",
              "    <tr>\n",
              "      <th>2010-01-07</th>\n",
              "      <td>30.700001</td>\n",
              "      <td>30.190001</td>\n",
              "      <td>30.629999</td>\n",
              "      <td>30.450001</td>\n",
              "      <td>50559700.0</td>\n",
              "      <td>23.835503</td>\n",
              "    </tr>\n",
              "    <tr>\n",
              "      <th>2010-01-08</th>\n",
              "      <td>30.879999</td>\n",
              "      <td>30.240000</td>\n",
              "      <td>30.280001</td>\n",
              "      <td>30.660000</td>\n",
              "      <td>51197400.0</td>\n",
              "      <td>23.999893</td>\n",
              "    </tr>\n",
              "    <tr>\n",
              "      <th>...</th>\n",
              "      <td>...</td>\n",
              "      <td>...</td>\n",
              "      <td>...</td>\n",
              "      <td>...</td>\n",
              "      <td>...</td>\n",
              "      <td>...</td>\n",
              "    </tr>\n",
              "    <tr>\n",
              "      <th>2020-04-24</th>\n",
              "      <td>174.559998</td>\n",
              "      <td>170.710007</td>\n",
              "      <td>172.059998</td>\n",
              "      <td>174.550003</td>\n",
              "      <td>34305300.0</td>\n",
              "      <td>174.065216</td>\n",
              "    </tr>\n",
              "    <tr>\n",
              "      <th>2020-04-27</th>\n",
              "      <td>176.899994</td>\n",
              "      <td>173.300003</td>\n",
              "      <td>176.589996</td>\n",
              "      <td>174.050003</td>\n",
              "      <td>33194400.0</td>\n",
              "      <td>173.566605</td>\n",
              "    </tr>\n",
              "    <tr>\n",
              "      <th>2020-04-28</th>\n",
              "      <td>175.669998</td>\n",
              "      <td>169.389999</td>\n",
              "      <td>175.589996</td>\n",
              "      <td>169.809998</td>\n",
              "      <td>34392700.0</td>\n",
              "      <td>169.338379</td>\n",
              "    </tr>\n",
              "    <tr>\n",
              "      <th>2020-04-29</th>\n",
              "      <td>177.679993</td>\n",
              "      <td>171.880005</td>\n",
              "      <td>173.220001</td>\n",
              "      <td>177.429993</td>\n",
              "      <td>51286600.0</td>\n",
              "      <td>176.937210</td>\n",
              "    </tr>\n",
              "    <tr>\n",
              "      <th>2020-04-30</th>\n",
              "      <td>180.399994</td>\n",
              "      <td>176.229996</td>\n",
              "      <td>180.000000</td>\n",
              "      <td>179.210007</td>\n",
              "      <td>53875900.0</td>\n",
              "      <td>178.712280</td>\n",
              "    </tr>\n",
              "  </tbody>\n",
              "</table>\n",
              "<p>2599 rows × 6 columns</p>\n",
              "</div>"
            ],
            "text/plain": [
              "                  High         Low  ...      Volume   Adj Close\n",
              "Date                                ...                        \n",
              "2010-01-04   31.100000   30.590000  ...  38409100.0   24.226894\n",
              "2010-01-05   31.100000   30.639999  ...  49749600.0   24.234720\n",
              "2010-01-06   31.080000   30.520000  ...  58182400.0   24.085989\n",
              "2010-01-07   30.700001   30.190001  ...  50559700.0   23.835503\n",
              "2010-01-08   30.879999   30.240000  ...  51197400.0   23.999893\n",
              "...                ...         ...  ...         ...         ...\n",
              "2020-04-24  174.559998  170.710007  ...  34305300.0  174.065216\n",
              "2020-04-27  176.899994  173.300003  ...  33194400.0  173.566605\n",
              "2020-04-28  175.669998  169.389999  ...  34392700.0  169.338379\n",
              "2020-04-29  177.679993  171.880005  ...  51286600.0  176.937210\n",
              "2020-04-30  180.399994  176.229996  ...  53875900.0  178.712280\n",
              "\n",
              "[2599 rows x 6 columns]"
            ]
          },
          "metadata": {
            "tags": []
          },
          "execution_count": 2
        }
      ]
    },
    {
      "cell_type": "code",
      "metadata": {
        "id": "eMnAnoSVYzVg",
        "colab_type": "code",
        "colab": {
          "base_uri": "https://localhost:8080/",
          "height": 518
        },
        "outputId": "49c0689c-70c9-416e-ca92-801c419f2eb8"
      },
      "source": [
        "# visualizing close price\n",
        "plt.figure(figsize= (16,8))\n",
        "plt.title('Close price History')\n",
        "plt.plot(df['Close'])\n",
        "plt.xlabel('Date', fontsize = 16)\n",
        "plt.ylabel('Close Price USD', fontsize = 16)\n",
        "plt.show()"
      ],
      "execution_count": 3,
      "outputs": [
        {
          "output_type": "display_data",
          "data": {
            "image/png": "[encoded data removed]",
            "text/plain": [
              "<Figure size 1152x576 with 1 Axes>"
            ]
          },
          "metadata": {
            "tags": [],
            "needs_background": "light"
          }
        }
      ]
    },
    {
      "cell_type": "code",
      "metadata": {
        "id": "rCXATdHQY1A-",
        "colab_type": "code",
        "colab": {
          "base_uri": "https://localhost:8080/",
          "height": 35
        },
        "outputId": "7a015c95-099a-437e-a42c-c5ace68ac11d"
      },
      "source": [
        "# Creating new data fram with only Close price data\n",
        "data = df.filter(['Close'])\n",
        "dataset = data.values\n",
        "training_data_len = math.ceil(len(dataset)*0.8)\n",
        "training_data_len"
      ],
      "execution_count": 4,
      "outputs": [
        {
          "output_type": "execute_result",
          "data": {
            "text/plain": [
              "2080"
            ]
          },
          "metadata": {
            "tags": []
          },
          "execution_count": 4
        }
      ]
    },
    {
      "cell_type": "code",
      "metadata": {
        "id": "WBDz_QnEY3vA",
        "colab_type": "code",
        "colab": {
          "base_uri": "https://localhost:8080/",
          "height": 144
        },
        "outputId": "ca4962f0-c55c-46cf-95ff-05ded784f683"
      },
      "source": [
        "#scaling data\n",
        "scaler = MinMaxScaler(feature_range=(0,1))\n",
        "scaled_data = scaler.fit_transform(dataset)\n",
        "scaled_data"
      ],
      "execution_count": 5,
      "outputs": [
        {
          "output_type": "execute_result",
          "data": {
            "text/plain": [
              "array([[0.04792082],\n",
              "       [0.04798116],\n",
              "       [0.04683445],\n",
              "       ...,\n",
              "       [0.88599191],\n",
              "       [0.93198138],\n",
              "       [0.94272442]])"
            ]
          },
          "metadata": {
            "tags": []
          },
          "execution_count": 5
        }
      ]
    },
    {
      "cell_type": "code",
      "metadata": {
        "id": "EW98gRaVY6Ln",
        "colab_type": "code",
        "colab": {
          "base_uri": "https://localhost:8080/",
          "height": 217
        },
        "outputId": "8498f583-a269-4aa0-bb1e-df2b5be13c28"
      },
      "source": [
        "#creating scaled training datasets\n",
        "train_data = scaled_data[0:training_data_len,:]\n",
        "x_train = []\n",
        "y_train = []\n",
        "\n",
        "for i in range(50, len(train_data)):\n",
        "  x_train.append(train_data[i-50:i,0])\n",
        "  y_train.append(train_data[i,0])\n",
        "  if i<=50:\n",
        "    print (x_train)\n",
        "    print (y_train)\n",
        "    "
      ],
      "execution_count": 6,
      "outputs": [
        {
          "output_type": "stream",
          "text": [
            "[array([0.04792082, 0.04798116, 0.04683445, 0.04490314, 0.04617056,\n",
            "       0.04381677, 0.04260969, 0.0442996 , 0.04798116, 0.04737764,\n",
            "       0.04882612, 0.04574808, 0.04224757, 0.03591043, 0.03808316,\n",
            "       0.03916953, 0.04019555, 0.03711751, 0.03120285, 0.03259098,\n",
            "       0.03289275, 0.03391876, 0.02915082, 0.03023719, 0.02842657,\n",
            "       0.03017684, 0.03005613, 0.03084073, 0.02969401, 0.03222886,\n",
            "       0.03367735, 0.03597078, 0.03476372, 0.0345223 , 0.03210815,\n",
            "       0.03391876, 0.0337377 , 0.03416018, 0.03627256, 0.03289275,\n",
            "       0.03289275, 0.03391876, 0.03367735, 0.03391876, 0.03494477,\n",
            "       0.03597078, 0.03723822, 0.0377814 , 0.03790211, 0.03838494])]\n",
            "[0.03995412555350264]\n"
          ],
          "name": "stdout"
        }
      ]
    },
    {
      "cell_type": "code",
      "metadata": {
        "id": "JgaIel8bY8uL",
        "colab_type": "code",
        "colab": {
          "base_uri": "https://localhost:8080/",
          "height": 35
        },
        "outputId": "c8108375-66c7-4a63-919b-3ce3b55bd8d3"
      },
      "source": [
        "#converting x_train, y_train in numpy arrays\n",
        "x_train, y_train = np.array(x_train), np.array(y_train)\n",
        "#reshaping data for the LSTM model\n",
        "x_train = np.reshape(x_train,(x_train.shape[0], x_train.shape[1],1))\n",
        "x_train.shape"
      ],
      "execution_count": 7,
      "outputs": [
        {
          "output_type": "execute_result",
          "data": {
            "text/plain": [
              "(2030, 50, 1)"
            ]
          },
          "metadata": {
            "tags": []
          },
          "execution_count": 7
        }
      ]
    },
    {
      "cell_type": "code",
      "metadata": {
        "id": "kReq_fepY_Ol",
        "colab_type": "code",
        "colab": {}
      },
      "source": [
        "#Model build\n",
        "model = Sequential()\n",
        "model.add(LSTM(50, return_sequences=True, input_shape = (x_train.shape[1],1)))\n",
        "model.add(LSTM(50, return_sequences=False))\n",
        "model.add(Dense(30))\n",
        "model.add(Dense(1))"
      ],
      "execution_count": 0,
      "outputs": []
    },
    {
      "cell_type": "code",
      "metadata": {
        "id": "Tv_jkeVnZCSE",
        "colab_type": "code",
        "colab": {}
      },
      "source": [
        "#Compling the model\n",
        "model.compile(optimizer='adam', loss='mean_squared_error')"
      ],
      "execution_count": 0,
      "outputs": []
    },
    {
      "cell_type": "code",
      "metadata": {
        "id": "KTdTZ5qGZEuO",
        "colab_type": "code",
        "colab": {
          "base_uri": "https://localhost:8080/",
          "height": 72
        },
        "outputId": "2f37dc75-688c-4086-a0f7-207b49931f0b"
      },
      "source": [
        "#training the model\n",
        "model.fit(x_train, y_train, batch_size=1,epochs=1)"
      ],
      "execution_count": 10,
      "outputs": [
        {
          "output_type": "stream",
          "text": [
            "Epoch 1/1\n",
            "2030/2030 [==============================] - 74s 36ms/step - loss: 2.2113e-04\n"
          ],
          "name": "stdout"
        },
        {
          "output_type": "execute_result",
          "data": {
            "text/plain": [
              "<keras.callbacks.callbacks.History at 0x7f149d7b2a20>"
            ]
          },
          "metadata": {
            "tags": []
          },
          "execution_count": 10
        }
      ]
    },
    {
      "cell_type": "code",
      "metadata": {
        "id": "MaVU4LHrZb_P",
        "colab_type": "code",
        "colab": {
          "base_uri": "https://localhost:8080/",
          "height": 35
        },
        "outputId": "d8de3d7b-31d0-4aaf-b395-64b51fb31217"
      },
      "source": [
        "#creating testing dataset \n",
        "test_data = scaled_data[training_data_len - 50 : , :]\n",
        "test_data.shape\n"
      ],
      "execution_count": 11,
      "outputs": [
        {
          "output_type": "execute_result",
          "data": {
            "text/plain": [
              "(569, 1)"
            ]
          },
          "metadata": {
            "tags": []
          },
          "execution_count": 11
        }
      ]
    },
    {
      "cell_type": "code",
      "metadata": {
        "id": "JW4c_RMNZerh",
        "colab_type": "code",
        "colab": {}
      },
      "source": [
        "#creating x_test and y_test\n",
        "x_test = []\n",
        "y_test = dataset[training_data_len : , : ]\n",
        "for i in range(50, len(test_data)):\n",
        "  x_test.append(test_data[i-50 : i, 0])"
      ],
      "execution_count": 0,
      "outputs": []
    },
    {
      "cell_type": "code",
      "metadata": {
        "id": "CQ73qvh5Zf6v",
        "colab_type": "code",
        "colab": {
          "base_uri": "https://localhost:8080/",
          "height": 35
        },
        "outputId": "02341ae4-d070-447c-bb68-434958432a44"
      },
      "source": [
        "x_test = np.array(x_test)\n",
        "x_test.shape"
      ],
      "execution_count": 14,
      "outputs": [
        {
          "output_type": "execute_result",
          "data": {
            "text/plain": [
              "(519, 50)"
            ]
          },
          "metadata": {
            "tags": []
          },
          "execution_count": 14
        }
      ]
    },
    {
      "cell_type": "code",
      "metadata": {
        "id": "YiQmbCenZuiS",
        "colab_type": "code",
        "colab": {}
      },
      "source": [
        "#reshaping test data\n",
        "x_test = np.reshape(x_test, (x_test.shape[0],x_test.shape[1],1))"
      ],
      "execution_count": 0,
      "outputs": []
    },
    {
      "cell_type": "code",
      "metadata": {
        "id": "A40W-23VZxMW",
        "colab_type": "code",
        "colab": {}
      },
      "source": [
        "#get models predicted price value\n",
        "prediction = model.predict(x_test)\n",
        "prediction = scaler.inverse_transform(prediction)"
      ],
      "execution_count": 0,
      "outputs": []
    },
    {
      "cell_type": "code",
      "metadata": {
        "id": "_9UnZaHRZz3r",
        "colab_type": "code",
        "colab": {
          "base_uri": "https://localhost:8080/",
          "height": 35
        },
        "outputId": "8ad49b75-2d57-47d1-d8ed-8338039d4bf3"
      },
      "source": [
        "# calculation RMSE\n",
        "rmse = np.sqrt(np.mean(prediction - y_test)**2)\n",
        "rmse"
      ],
      "execution_count": 17,
      "outputs": [
        {
          "output_type": "execute_result",
          "data": {
            "text/plain": [
              "16.288236349763668"
            ]
          },
          "metadata": {
            "tags": []
          },
          "execution_count": 17
        }
      ]
    },
    {
      "cell_type": "code",
      "metadata": {
        "id": "WNazvnIAZ6ob",
        "colab_type": "code",
        "colab": {
          "base_uri": "https://localhost:8080/",
          "height": 630
        },
        "outputId": "aa74aa76-eaa7-4ee4-84a0-651440569326"
      },
      "source": [
        "#ploting data\n",
        "train = data[:training_data_len]\n",
        "valid = data[training_data_len : ]\n",
        "valid['Prediction'] = prediction\n",
        "#visualizing data\n",
        "plt.figure(figsize=(16,8))\n",
        "plt.title('Model')\n",
        "plt.xlabel('Date', fontsize = 18)\n",
        "plt.ylabel('Close Price USD', fontsize = 18)\n",
        "plt.plot(train['Close'])\n",
        "plt.plot(valid[['Close','Prediction']])\n",
        "plt.legend(['Train','Val','Prediction'], loc = 'lower right')\n",
        "plt.show()"
      ],
      "execution_count": 18,
      "outputs": [
        {
          "output_type": "stream",
          "text": [
            "/usr/local/lib/python3.6/dist-packages/ipykernel_launcher.py:4: SettingWithCopyWarning: \n",
            "A value is trying to be set on a copy of a slice from a DataFrame.\n",
            "Try using .loc[row_indexer,col_indexer] = value instead\n",
            "\n",
            "See the caveats in the documentation: https://pandas.pydata.org/pandas-docs/stable/user_guide/indexing.html#returning-a-view-versus-a-copy\n",
            "  after removing the cwd from sys.path.\n"
          ],
          "name": "stderr"
        },
        {
          "output_type": "display_data",
          "data": {
            "image/png": "[encoded data removed]",
            "text/plain": [
              "<Figure size 1152x576 with 1 Axes>"
            ]
          },
          "metadata": {
            "tags": [],
            "needs_background": "light"
          }
        }
      ]
    },
    {
      "cell_type": "code",
      "metadata": {
        "id": "klcoS7ejaDdK",
        "colab_type": "code",
        "colab": {
          "base_uri": "https://localhost:8080/",
          "height": 455
        },
        "outputId": "43f51fe5-7247-4eaf-a33e-06f24cab0d68"
      },
      "source": [
        "valid"
      ],
      "execution_count": 19,
      "outputs": [
        {
          "output_type": "execute_result",
          "data": {
            "text/html": [
              "<div>\n",
              "<style scoped>\n",
              "    .dataframe tbody tr th:only-of-type {\n",
              "        vertical-align: middle;\n",
              "    }\n",
              "\n",
              "    .dataframe tbody tr th {\n",
              "        vertical-align: top;\n",
              "    }\n",
              "\n",
              "    .dataframe thead th {\n",
              "        text-align: right;\n",
              "    }\n",
              "</style>\n",
              "<table border=\"1\" class=\"dataframe\">\n",
              "  <thead>\n",
              "    <tr style=\"text-align: right;\">\n",
              "      <th></th>\n",
              "      <th>Close</th>\n",
              "      <th>Prediction</th>\n",
              "    </tr>\n",
              "    <tr>\n",
              "      <th>Date</th>\n",
              "      <th></th>\n",
              "      <th></th>\n",
              "    </tr>\n",
              "  </thead>\n",
              "  <tbody>\n",
              "    <tr>\n",
              "      <th>2018-04-10</th>\n",
              "      <td>92.879997</td>\n",
              "      <td>83.800247</td>\n",
              "    </tr>\n",
              "    <tr>\n",
              "      <th>2018-04-11</th>\n",
              "      <td>91.860001</td>\n",
              "      <td>84.029678</td>\n",
              "    </tr>\n",
              "    <tr>\n",
              "      <th>2018-04-12</th>\n",
              "      <td>93.580002</td>\n",
              "      <td>84.201332</td>\n",
              "    </tr>\n",
              "    <tr>\n",
              "      <th>2018-04-13</th>\n",
              "      <td>93.080002</td>\n",
              "      <td>84.513962</td>\n",
              "    </tr>\n",
              "    <tr>\n",
              "      <th>2018-04-16</th>\n",
              "      <td>94.169998</td>\n",
              "      <td>84.786049</td>\n",
              "    </tr>\n",
              "    <tr>\n",
              "      <th>...</th>\n",
              "      <td>...</td>\n",
              "      <td>...</td>\n",
              "    </tr>\n",
              "    <tr>\n",
              "      <th>2020-04-24</th>\n",
              "      <td>174.550003</td>\n",
              "      <td>142.815186</td>\n",
              "    </tr>\n",
              "    <tr>\n",
              "      <th>2020-04-27</th>\n",
              "      <td>174.050003</td>\n",
              "      <td>142.976837</td>\n",
              "    </tr>\n",
              "    <tr>\n",
              "      <th>2020-04-28</th>\n",
              "      <td>169.809998</td>\n",
              "      <td>143.169891</td>\n",
              "    </tr>\n",
              "    <tr>\n",
              "      <th>2020-04-29</th>\n",
              "      <td>177.429993</td>\n",
              "      <td>142.947021</td>\n",
              "    </tr>\n",
              "    <tr>\n",
              "      <th>2020-04-30</th>\n",
              "      <td>179.210007</td>\n",
              "      <td>143.328400</td>\n",
              "    </tr>\n",
              "  </tbody>\n",
              "</table>\n",
              "<p>519 rows × 2 columns</p>\n",
              "</div>"
            ],
            "text/plain": [
              "                 Close  Prediction\n",
              "Date                              \n",
              "2018-04-10   92.879997   83.800247\n",
              "2018-04-11   91.860001   84.029678\n",
              "2018-04-12   93.580002   84.201332\n",
              "2018-04-13   93.080002   84.513962\n",
              "2018-04-16   94.169998   84.786049\n",
              "...                ...         ...\n",
              "2020-04-24  174.550003  142.815186\n",
              "2020-04-27  174.050003  142.976837\n",
              "2020-04-28  169.809998  143.169891\n",
              "2020-04-29  177.429993  142.947021\n",
              "2020-04-30  179.210007  143.328400\n",
              "\n",
              "[519 rows x 2 columns]"
            ]
          },
          "metadata": {
            "tags": []
          },
          "execution_count": 19
        }
      ]
    },
    {
      "cell_type": "code",
      "metadata": {
        "id": "kz_JSxpAaGHK",
        "colab_type": "code",
        "colab": {
          "base_uri": "https://localhost:8080/",
          "height": 35
        },
        "outputId": "84cdde2f-7461-4e4e-c3e8-44871cfa115e"
      },
      "source": [
        "# predicting\n",
        "msft_quote = web.DataReader('MSFT', data_source='yahoo', start = '2010-01-01', end= '2020-05-20')\n",
        "new_df = msft_quote.filter(['Close'])\n",
        "last_50_days = new_df[-50:].values\n",
        "last_50_days_scaled = scaler.transform(last_50_days)\n",
        "X_test = []\n",
        "X_test.append(last_50_days_scaled)\n",
        "X_test = np.array(X_test)\n",
        "X_test = np.reshape(X_test,(X_test.shape[0], X_test.shape[1], 1))\n",
        "pred_price = model.predict(X_test)\n",
        "pred_price = scaler.inverse_transform(pred_price)\n",
        "print(pred_price)\n"
      ],
      "execution_count": 20,
      "outputs": [
        {
          "output_type": "stream",
          "text": [
            "[[149.76685]]\n"
          ],
          "name": "stdout"
        }
      ]
    },
    {
      "cell_type": "code",
      "metadata": {
        "id": "dUbi6gyDaIvL",
        "colab_type": "code",
        "colab": {
          "base_uri": "https://localhost:8080/",
          "height": 90
        },
        "outputId": "efa8a9ed-e666-4003-919c-56df6ce42114"
      },
      "source": [
        "msft_quote2 = web.DataReader('MSFT', data_source='yahoo', start = '2020-05-21', end= '2020-05-21')\n",
        "print (msft_quote2['Close'])"
      ],
      "execution_count": 21,
      "outputs": [
        {
          "output_type": "stream",
          "text": [
            "Date\n",
            "2020-05-21    183.429993\n",
            "2020-05-21    183.429993\n",
            "Name: Close, dtype: float64\n"
          ],
          "name": "stdout"
        }
      ]
    }
  ]
}