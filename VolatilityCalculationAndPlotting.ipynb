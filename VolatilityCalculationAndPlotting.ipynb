{
 "cells": [
  {
   "cell_type": "code",
   "execution_count": 2,
   "metadata": {},
   "outputs": [],
   "source": [
    "import numpy as np\n",
    "import pandas as pd\n",
    "import pandas_datareader as pdr"
   ]
  },
  {
   "cell_type": "code",
   "execution_count": 4,
   "metadata": {},
   "outputs": [
    {
     "data": {
      "text/html": [
       "<div>\n",
       "<style scoped>\n",
       "    .dataframe tbody tr th:only-of-type {\n",
       "        vertical-align: middle;\n",
       "    }\n",
       "\n",
       "    .dataframe tbody tr th {\n",
       "        vertical-align: top;\n",
       "    }\n",
       "\n",
       "    .dataframe thead th {\n",
       "        text-align: right;\n",
       "    }\n",
       "</style>\n",
       "<table border=\"1\" class=\"dataframe\">\n",
       "  <thead>\n",
       "    <tr style=\"text-align: right;\">\n",
       "      <th></th>\n",
       "      <th>High</th>\n",
       "      <th>Low</th>\n",
       "      <th>Open</th>\n",
       "      <th>Close</th>\n",
       "      <th>Volume</th>\n",
       "      <th>Adj Close</th>\n",
       "    </tr>\n",
       "    <tr>\n",
       "      <th>Date</th>\n",
       "      <th></th>\n",
       "      <th></th>\n",
       "      <th></th>\n",
       "      <th></th>\n",
       "      <th></th>\n",
       "      <th></th>\n",
       "    </tr>\n",
       "  </thead>\n",
       "  <tbody>\n",
       "    <tr>\n",
       "      <th>2020-05-11</th>\n",
       "      <td>1416.530029</td>\n",
       "      <td>1377.151978</td>\n",
       "      <td>1378.280029</td>\n",
       "      <td>1403.260010</td>\n",
       "      <td>1412100.0</td>\n",
       "      <td>1403.260010</td>\n",
       "    </tr>\n",
       "    <tr>\n",
       "      <th>2020-05-12</th>\n",
       "      <td>1415.000000</td>\n",
       "      <td>1374.770020</td>\n",
       "      <td>1407.119995</td>\n",
       "      <td>1375.739990</td>\n",
       "      <td>1390600.0</td>\n",
       "      <td>1375.739990</td>\n",
       "    </tr>\n",
       "    <tr>\n",
       "      <th>2020-05-13</th>\n",
       "      <td>1385.482056</td>\n",
       "      <td>1328.400024</td>\n",
       "      <td>1377.050049</td>\n",
       "      <td>1349.329956</td>\n",
       "      <td>1812600.0</td>\n",
       "      <td>1349.329956</td>\n",
       "    </tr>\n",
       "    <tr>\n",
       "      <th>2020-05-14</th>\n",
       "      <td>1357.420044</td>\n",
       "      <td>1323.910034</td>\n",
       "      <td>1335.020020</td>\n",
       "      <td>1356.130005</td>\n",
       "      <td>1603100.0</td>\n",
       "      <td>1356.130005</td>\n",
       "    </tr>\n",
       "    <tr>\n",
       "      <th>2020-05-15</th>\n",
       "      <td>1374.479980</td>\n",
       "      <td>1339.000000</td>\n",
       "      <td>1350.000000</td>\n",
       "      <td>1373.189941</td>\n",
       "      <td>1705700.0</td>\n",
       "      <td>1373.189941</td>\n",
       "    </tr>\n",
       "  </tbody>\n",
       "</table>\n",
       "</div>"
      ],
      "text/plain": [
       "                   High          Low         Open        Close     Volume  \\\n",
       "Date                                                                        \n",
       "2020-05-11  1416.530029  1377.151978  1378.280029  1403.260010  1412100.0   \n",
       "2020-05-12  1415.000000  1374.770020  1407.119995  1375.739990  1390600.0   \n",
       "2020-05-13  1385.482056  1328.400024  1377.050049  1349.329956  1812600.0   \n",
       "2020-05-14  1357.420044  1323.910034  1335.020020  1356.130005  1603100.0   \n",
       "2020-05-15  1374.479980  1339.000000  1350.000000  1373.189941  1705700.0   \n",
       "\n",
       "              Adj Close  \n",
       "Date                     \n",
       "2020-05-11  1403.260010  \n",
       "2020-05-12  1375.739990  \n",
       "2020-05-13  1349.329956  \n",
       "2020-05-14  1356.130005  \n",
       "2020-05-15  1373.189941  "
      ]
     },
     "execution_count": 4,
     "metadata": {},
     "output_type": "execute_result"
    }
   ],
   "source": [
    "goog = pdr.DataReader('GOOG', data_source = 'yahoo', start = '3/14/2009', end = '5/15/2020')\n",
    "goog.tail()"
   ]
  },
  {
   "cell_type": "code",
   "execution_count": 8,
   "metadata": {},
   "outputs": [],
   "source": [
    "goog['Log_Return'] = np.log(goog['Close']/goog['Close'].shift(1))\n",
    "goog['Volatility'] = goog['Log_Return'].rolling(252).std() * np.sqrt(252)"
   ]
  },
  {
   "cell_type": "code",
   "execution_count": 9,
   "metadata": {},
   "outputs": [
    {
     "data": {
      "text/html": [
       "<div>\n",
       "<style scoped>\n",
       "    .dataframe tbody tr th:only-of-type {\n",
       "        vertical-align: middle;\n",
       "    }\n",
       "\n",
       "    .dataframe tbody tr th {\n",
       "        vertical-align: top;\n",
       "    }\n",
       "\n",
       "    .dataframe thead th {\n",
       "        text-align: right;\n",
       "    }\n",
       "</style>\n",
       "<table border=\"1\" class=\"dataframe\">\n",
       "  <thead>\n",
       "    <tr style=\"text-align: right;\">\n",
       "      <th></th>\n",
       "      <th>High</th>\n",
       "      <th>Low</th>\n",
       "      <th>Open</th>\n",
       "      <th>Close</th>\n",
       "      <th>Volume</th>\n",
       "      <th>Adj Close</th>\n",
       "      <th>Log_Return</th>\n",
       "      <th>Volatility</th>\n",
       "    </tr>\n",
       "    <tr>\n",
       "      <th>Date</th>\n",
       "      <th></th>\n",
       "      <th></th>\n",
       "      <th></th>\n",
       "      <th></th>\n",
       "      <th></th>\n",
       "      <th></th>\n",
       "      <th></th>\n",
       "      <th></th>\n",
       "    </tr>\n",
       "  </thead>\n",
       "  <tbody>\n",
       "    <tr>\n",
       "      <th>2020-05-11</th>\n",
       "      <td>1416.530029</td>\n",
       "      <td>1377.151978</td>\n",
       "      <td>1378.280029</td>\n",
       "      <td>1403.260010</td>\n",
       "      <td>1412100.0</td>\n",
       "      <td>1403.260010</td>\n",
       "      <td>0.010668</td>\n",
       "      <td>0.365609</td>\n",
       "    </tr>\n",
       "    <tr>\n",
       "      <th>2020-05-12</th>\n",
       "      <td>1415.000000</td>\n",
       "      <td>1374.770020</td>\n",
       "      <td>1407.119995</td>\n",
       "      <td>1375.739990</td>\n",
       "      <td>1390600.0</td>\n",
       "      <td>1375.739990</td>\n",
       "      <td>-0.019806</td>\n",
       "      <td>0.365047</td>\n",
       "    </tr>\n",
       "    <tr>\n",
       "      <th>2020-05-13</th>\n",
       "      <td>1385.482056</td>\n",
       "      <td>1328.400024</td>\n",
       "      <td>1377.050049</td>\n",
       "      <td>1349.329956</td>\n",
       "      <td>1812600.0</td>\n",
       "      <td>1349.329956</td>\n",
       "      <td>-0.019384</td>\n",
       "      <td>0.365437</td>\n",
       "    </tr>\n",
       "    <tr>\n",
       "      <th>2020-05-14</th>\n",
       "      <td>1357.420044</td>\n",
       "      <td>1323.910034</td>\n",
       "      <td>1335.020020</td>\n",
       "      <td>1356.130005</td>\n",
       "      <td>1603100.0</td>\n",
       "      <td>1356.130005</td>\n",
       "      <td>0.005027</td>\n",
       "      <td>0.363511</td>\n",
       "    </tr>\n",
       "    <tr>\n",
       "      <th>2020-05-15</th>\n",
       "      <td>1374.479980</td>\n",
       "      <td>1339.000000</td>\n",
       "      <td>1350.000000</td>\n",
       "      <td>1373.189941</td>\n",
       "      <td>1705700.0</td>\n",
       "      <td>1373.189941</td>\n",
       "      <td>0.012501</td>\n",
       "      <td>0.363507</td>\n",
       "    </tr>\n",
       "  </tbody>\n",
       "</table>\n",
       "</div>"
      ],
      "text/plain": [
       "                   High          Low         Open        Close     Volume  \\\n",
       "Date                                                                        \n",
       "2020-05-11  1416.530029  1377.151978  1378.280029  1403.260010  1412100.0   \n",
       "2020-05-12  1415.000000  1374.770020  1407.119995  1375.739990  1390600.0   \n",
       "2020-05-13  1385.482056  1328.400024  1377.050049  1349.329956  1812600.0   \n",
       "2020-05-14  1357.420044  1323.910034  1335.020020  1356.130005  1603100.0   \n",
       "2020-05-15  1374.479980  1339.000000  1350.000000  1373.189941  1705700.0   \n",
       "\n",
       "              Adj Close  Log_Return  Volatility  \n",
       "Date                                             \n",
       "2020-05-11  1403.260010    0.010668    0.365609  \n",
       "2020-05-12  1375.739990   -0.019806    0.365047  \n",
       "2020-05-13  1349.329956   -0.019384    0.365437  \n",
       "2020-05-14  1356.130005    0.005027    0.363511  \n",
       "2020-05-15  1373.189941    0.012501    0.363507  "
      ]
     },
     "execution_count": 9,
     "metadata": {},
     "output_type": "execute_result"
    }
   ],
   "source": [
    "goog.tail()"
   ]
  },
  {
   "cell_type": "code",
   "execution_count": 10,
   "metadata": {},
   "outputs": [
    {
     "data": {
      "text/plain": [
       "array([<matplotlib.axes._subplots.AxesSubplot object at 0x00000243EF1E6FD0>,\n",
       "       <matplotlib.axes._subplots.AxesSubplot object at 0x00000243EFD83048>],\n",
       "      dtype=object)"
      ]
     },
     "execution_count": 10,
     "metadata": {},
     "output_type": "execute_result"
    },
    {
     "data": {
      "image/png": "[encoded data removed]",
      "text/plain": [
       "<Figure size 576x432 with 2 Axes>"
      ]
     },
     "metadata": {
      "needs_background": "light"
     },
     "output_type": "display_data"
    }
   ],
   "source": [
    "%matplotlib inline\n",
    "goog[['Close','Volatility']].plot(subplots = True, color = 'blue', figsize = (8,6))"
   ]
  },
  {
   "cell_type": "code",
   "execution_count": null,
   "metadata": {},
   "outputs": [],
   "source": []
  }
 ],
 "metadata": {
  "kernelspec": {
   "display_name": "Python 3",
   "language": "python",
   "name": "python3"
  },
  "language_info": {
   "codemirror_mode": {
    "name": "ipython",
    "version": 3
   },
   "file_extension": ".py",
   "mimetype": "text/x-python",
   "name": "python",
   "nbconvert_exporter": "python",
   "pygments_lexer": "ipython3",
   "version": "3.7.3"
  }
 },
 "nbformat": 4,
 "nbformat_minor": 2
}
